{
 "cells": [
  {
   "cell_type": "markdown",
   "metadata": {},
   "source": [
    "# Stock Price Prediction using ML model\n",
    "In this session, we'll learn how to build a ML model for predicting **%change of stock prices of the next day** of stocks in SET index (Stock Exchange of Thailand). Thus, we should be able to use the prediction to buy stocks that are going up the next day, make profits, and hopefully get rich!\n",
    "\n",
    "This session is divided into the following 5 notebooks.\n",
    "1. `1_collect_data.ipynb` (current notebook)\n",
    "2. `2_eda.ipynb`\n",
    "3. `3_features_prep.ipynb`\n",
    "4. `4_make_prediction.ipynb`\n",
    "5. `5_evaluation.ipynb`"
   ]
  },
  {
   "cell_type": "markdown",
   "metadata": {},
   "source": [
    "# Load stock data using `YahooFinance`\n",
    "In this notebook, we will download and store the following data\n",
    "1. Daily price - end of day information of stocks i.e. Open, High, Low, Close, Volume\n",
    "2. Company information - sector and industry of stocks\n",
    "3. Annual income statement - profitability of stocks"
   ]
  },
  {
   "cell_type": "code",
   "execution_count": null,
   "metadata": {},
   "outputs": [],
   "source": [
    "import pandas as pd\n",
    "import yfinance as yf\n",
    "from tqdm.notebook import tqdm\n",
    "import time"
   ]
  },
  {
   "cell_type": "markdown",
   "metadata": {},
   "source": [
    "## Load symbol list"
   ]
  },
  {
   "cell_type": "code",
   "execution_count": null,
   "metadata": {},
   "outputs": [],
   "source": [
    "# read symbols list within SET index from file\n",
    "symbols = pd.read_csv(\"data/SET_symbols_20241230.csv\")"
   ]
  },
  {
   "cell_type": "markdown",
   "metadata": {},
   "source": [
    "## Daily price"
   ]
  },
  {
   "cell_type": "code",
   "execution_count": 33,
   "metadata": {},
   "outputs": [],
   "source": [
    "# configurations\n",
    "interval = \"1d\"\n",
    "start = \"2020-01-01\"\n",
    "end = \"2024-12-31\""
   ]
  },
  {
   "cell_type": "code",
   "execution_count": 3,
   "metadata": {},
   "outputs": [
    {
     "data": {
      "application/vnd.jupyter.widget-view+json": {
       "model_id": "c76ef77f6c114dceac834ee16c383832",
       "version_major": 2,
       "version_minor": 0
      },
      "text/plain": [
       "  0%|          | 0/925 [00:00<?, ?it/s]"
      ]
     },
     "metadata": {},
     "output_type": "display_data"
    }
   ],
   "source": [
    "if True:\n",
    "\n",
    "    price_df = pd.DataFrame()\n",
    "    for symbol in tqdm(symbols[\"symbol\"]):\n",
    "        yf_ticker = yf.Ticker(f\"{symbol}.BK\")\n",
    "        price_df = pd.concat([price_df, yf_ticker.history(interval=interval, start=start, end=end).assign(symbol=symbol)])\n",
    "\n",
    "    # check-point\n",
    "    price_df.to_csv(\"data/set_price.csv\")\n"
   ]
  },
  {
   "cell_type": "code",
   "execution_count": 8,
   "metadata": {},
   "outputs": [],
   "source": [
    "price_df = pd.read_csv(\"data/set_price.csv\")"
   ]
  },
  {
   "cell_type": "code",
   "execution_count": 9,
   "metadata": {},
   "outputs": [
    {
     "data": {
      "text/html": [
       "<div>\n",
       "<style scoped>\n",
       "    .dataframe tbody tr th:only-of-type {\n",
       "        vertical-align: middle;\n",
       "    }\n",
       "\n",
       "    .dataframe tbody tr th {\n",
       "        vertical-align: top;\n",
       "    }\n",
       "\n",
       "    .dataframe thead th {\n",
       "        text-align: right;\n",
       "    }\n",
       "</style>\n",
       "<table border=\"1\" class=\"dataframe\">\n",
       "  <thead>\n",
       "    <tr style=\"text-align: right;\">\n",
       "      <th></th>\n",
       "      <th>Date</th>\n",
       "      <th>Open</th>\n",
       "      <th>High</th>\n",
       "      <th>Low</th>\n",
       "      <th>Close</th>\n",
       "      <th>Volume</th>\n",
       "      <th>Dividends</th>\n",
       "      <th>Stock Splits</th>\n",
       "      <th>symbol</th>\n",
       "      <th>Capital Gains</th>\n",
       "    </tr>\n",
       "  </thead>\n",
       "  <tbody>\n",
       "    <tr>\n",
       "      <th>0</th>\n",
       "      <td>2022-10-03 00:00:00+07:00</td>\n",
       "      <td>7.10</td>\n",
       "      <td>10.20</td>\n",
       "      <td>7.10</td>\n",
       "      <td>10.20</td>\n",
       "      <td>559465900</td>\n",
       "      <td>0.0</td>\n",
       "      <td>0.0</td>\n",
       "      <td>24CS</td>\n",
       "      <td>NaN</td>\n",
       "    </tr>\n",
       "    <tr>\n",
       "      <th>1</th>\n",
       "      <td>2022-10-04 00:00:00+07:00</td>\n",
       "      <td>10.70</td>\n",
       "      <td>11.10</td>\n",
       "      <td>7.15</td>\n",
       "      <td>7.15</td>\n",
       "      <td>330707400</td>\n",
       "      <td>0.0</td>\n",
       "      <td>0.0</td>\n",
       "      <td>24CS</td>\n",
       "      <td>NaN</td>\n",
       "    </tr>\n",
       "    <tr>\n",
       "      <th>2</th>\n",
       "      <td>2022-10-05 00:00:00+07:00</td>\n",
       "      <td>5.85</td>\n",
       "      <td>6.45</td>\n",
       "      <td>5.05</td>\n",
       "      <td>5.15</td>\n",
       "      <td>361028900</td>\n",
       "      <td>0.0</td>\n",
       "      <td>0.0</td>\n",
       "      <td>24CS</td>\n",
       "      <td>NaN</td>\n",
       "    </tr>\n",
       "    <tr>\n",
       "      <th>3</th>\n",
       "      <td>2022-10-06 00:00:00+07:00</td>\n",
       "      <td>5.40</td>\n",
       "      <td>5.45</td>\n",
       "      <td>4.70</td>\n",
       "      <td>5.20</td>\n",
       "      <td>232679200</td>\n",
       "      <td>0.0</td>\n",
       "      <td>0.0</td>\n",
       "      <td>24CS</td>\n",
       "      <td>NaN</td>\n",
       "    </tr>\n",
       "    <tr>\n",
       "      <th>4</th>\n",
       "      <td>2022-10-07 00:00:00+07:00</td>\n",
       "      <td>5.10</td>\n",
       "      <td>5.15</td>\n",
       "      <td>4.76</td>\n",
       "      <td>5.00</td>\n",
       "      <td>131778400</td>\n",
       "      <td>0.0</td>\n",
       "      <td>0.0</td>\n",
       "      <td>24CS</td>\n",
       "      <td>NaN</td>\n",
       "    </tr>\n",
       "  </tbody>\n",
       "</table>\n",
       "</div>"
      ],
      "text/plain": [
       "                        Date   Open   High   Low  Close     Volume  Dividends  \\\n",
       "0  2022-10-03 00:00:00+07:00   7.10  10.20  7.10  10.20  559465900        0.0   \n",
       "1  2022-10-04 00:00:00+07:00  10.70  11.10  7.15   7.15  330707400        0.0   \n",
       "2  2022-10-05 00:00:00+07:00   5.85   6.45  5.05   5.15  361028900        0.0   \n",
       "3  2022-10-06 00:00:00+07:00   5.40   5.45  4.70   5.20  232679200        0.0   \n",
       "4  2022-10-07 00:00:00+07:00   5.10   5.15  4.76   5.00  131778400        0.0   \n",
       "\n",
       "   Stock Splits symbol  Capital Gains  \n",
       "0           0.0   24CS            NaN  \n",
       "1           0.0   24CS            NaN  \n",
       "2           0.0   24CS            NaN  \n",
       "3           0.0   24CS            NaN  \n",
       "4           0.0   24CS            NaN  "
      ]
     },
     "execution_count": 9,
     "metadata": {},
     "output_type": "execute_result"
    }
   ],
   "source": [
    "price_df.head()"
   ]
  },
  {
   "cell_type": "code",
   "execution_count": 11,
   "metadata": {},
   "outputs": [
    {
     "name": "stdout",
     "output_type": "stream",
     "text": [
      "<class 'pandas.core.frame.DataFrame'>\n",
      "RangeIndex: 967016 entries, 0 to 967015\n",
      "Data columns (total 10 columns):\n",
      " #   Column         Non-Null Count   Dtype  \n",
      "---  ------         --------------   -----  \n",
      " 0   Date           967016 non-null  object \n",
      " 1   Open           966999 non-null  float64\n",
      " 2   High           966999 non-null  float64\n",
      " 3   Low            966999 non-null  float64\n",
      " 4   Close          966999 non-null  float64\n",
      " 5   Volume         967016 non-null  int64  \n",
      " 6   Dividends      967016 non-null  float64\n",
      " 7   Stock Splits   967016 non-null  float64\n",
      " 8   symbol         967016 non-null  object \n",
      " 9   Capital Gains  18098 non-null   float64\n",
      "dtypes: float64(7), int64(1), object(2)\n",
      "memory usage: 73.8+ MB\n"
     ]
    }
   ],
   "source": [
    "price_df.info()"
   ]
  },
  {
   "cell_type": "markdown",
   "metadata": {},
   "source": [
    "## Daily price of SET (benchmark)"
   ]
  },
  {
   "cell_type": "code",
   "execution_count": 36,
   "metadata": {},
   "outputs": [
    {
     "name": "stderr",
     "output_type": "stream",
     "text": [
      "[*********************100%%**********************]  1 of 1 completed\n"
     ]
    }
   ],
   "source": [
    "# Download data for a specified date range (e.g., last 5 years)\n",
    "set_data = yf.download(\"^SET.BK\", start=start, end=end, interval=interval)"
   ]
  },
  {
   "cell_type": "code",
   "execution_count": 39,
   "metadata": {},
   "outputs": [
    {
     "data": {
      "text/html": [
       "<div>\n",
       "<style scoped>\n",
       "    .dataframe tbody tr th:only-of-type {\n",
       "        vertical-align: middle;\n",
       "    }\n",
       "\n",
       "    .dataframe tbody tr th {\n",
       "        vertical-align: top;\n",
       "    }\n",
       "\n",
       "    .dataframe thead th {\n",
       "        text-align: right;\n",
       "    }\n",
       "</style>\n",
       "<table border=\"1\" class=\"dataframe\">\n",
       "  <thead>\n",
       "    <tr style=\"text-align: right;\">\n",
       "      <th></th>\n",
       "      <th>Open</th>\n",
       "      <th>High</th>\n",
       "      <th>Low</th>\n",
       "      <th>Close</th>\n",
       "      <th>Adj Close</th>\n",
       "      <th>Volume</th>\n",
       "    </tr>\n",
       "    <tr>\n",
       "      <th>Date</th>\n",
       "      <th></th>\n",
       "      <th></th>\n",
       "      <th></th>\n",
       "      <th></th>\n",
       "      <th></th>\n",
       "      <th></th>\n",
       "    </tr>\n",
       "  </thead>\n",
       "  <tbody>\n",
       "    <tr>\n",
       "      <th>2020-01-02</th>\n",
       "      <td>1584.349976</td>\n",
       "      <td>1597.920044</td>\n",
       "      <td>1583.180054</td>\n",
       "      <td>1595.819946</td>\n",
       "      <td>1595.819946</td>\n",
       "      <td>3442200</td>\n",
       "    </tr>\n",
       "    <tr>\n",
       "      <th>2020-01-03</th>\n",
       "      <td>1596.949951</td>\n",
       "      <td>1604.430054</td>\n",
       "      <td>1592.900024</td>\n",
       "      <td>1594.969971</td>\n",
       "      <td>1594.969971</td>\n",
       "      <td>3251500</td>\n",
       "    </tr>\n",
       "    <tr>\n",
       "      <th>2020-01-06</th>\n",
       "      <td>1584.130005</td>\n",
       "      <td>1585.560059</td>\n",
       "      <td>1565.930054</td>\n",
       "      <td>1568.500000</td>\n",
       "      <td>1568.500000</td>\n",
       "      <td>4116100</td>\n",
       "    </tr>\n",
       "    <tr>\n",
       "      <th>2020-01-07</th>\n",
       "      <td>1578.520020</td>\n",
       "      <td>1585.439941</td>\n",
       "      <td>1570.040039</td>\n",
       "      <td>1585.229980</td>\n",
       "      <td>1585.229980</td>\n",
       "      <td>3201300</td>\n",
       "    </tr>\n",
       "    <tr>\n",
       "      <th>2020-01-08</th>\n",
       "      <td>1569.819946</td>\n",
       "      <td>1572.030029</td>\n",
       "      <td>1555.750000</td>\n",
       "      <td>1559.270020</td>\n",
       "      <td>1559.270020</td>\n",
       "      <td>3619500</td>\n",
       "    </tr>\n",
       "  </tbody>\n",
       "</table>\n",
       "</div>"
      ],
      "text/plain": [
       "                   Open         High          Low        Close    Adj Close  \\\n",
       "Date                                                                          \n",
       "2020-01-02  1584.349976  1597.920044  1583.180054  1595.819946  1595.819946   \n",
       "2020-01-03  1596.949951  1604.430054  1592.900024  1594.969971  1594.969971   \n",
       "2020-01-06  1584.130005  1585.560059  1565.930054  1568.500000  1568.500000   \n",
       "2020-01-07  1578.520020  1585.439941  1570.040039  1585.229980  1585.229980   \n",
       "2020-01-08  1569.819946  1572.030029  1555.750000  1559.270020  1559.270020   \n",
       "\n",
       "             Volume  \n",
       "Date                 \n",
       "2020-01-02  3442200  \n",
       "2020-01-03  3251500  \n",
       "2020-01-06  4116100  \n",
       "2020-01-07  3201300  \n",
       "2020-01-08  3619500  "
      ]
     },
     "execution_count": 39,
     "metadata": {},
     "output_type": "execute_result"
    }
   ],
   "source": [
    "set_data.head()"
   ]
  },
  {
   "cell_type": "code",
   "execution_count": 42,
   "metadata": {},
   "outputs": [],
   "source": [
    "set_data.reset_index(inplace=True)"
   ]
  },
  {
   "cell_type": "code",
   "execution_count": 43,
   "metadata": {},
   "outputs": [],
   "source": [
    "set_data.to_csv(\"data/set_price_index.csv\", index=False)"
   ]
  },
  {
   "cell_type": "markdown",
   "metadata": {},
   "source": [
    "## Company information"
   ]
  },
  {
   "cell_type": "code",
   "execution_count": 12,
   "metadata": {},
   "outputs": [
    {
     "data": {
      "application/vnd.jupyter.widget-view+json": {
       "model_id": "875bcb524766414eb8fea80aece2d9e3",
       "version_major": 2,
       "version_minor": 0
      },
      "text/plain": [
       "  0%|          | 0/925 [00:00<?, ?it/s]"
      ]
     },
     "metadata": {},
     "output_type": "display_data"
    }
   ],
   "source": [
    "if True:\n",
    "        \n",
    "        # get company info\n",
    "        company_info_df = pd.DataFrame()\n",
    "\n",
    "        for symbol in tqdm(symbols[\"symbol\"]):\n",
    "                ticker = yf.Ticker(f\"{symbol}.BK\")\n",
    "                try:\n",
    "                        symbol_info = ticker.info\n",
    "                        if len(symbol_info) > 1:\n",
    "                                company_info_df = pd.concat([company_info_df, pd.DataFrame({\"symbol\": [symbol], \"industry\": [symbol_info.get(\"industry\")], \"sector\": [symbol_info.get(\"sector\")]})])\n",
    "                except TimeoutError:\n",
    "                        print(f\"TimeoutError for symbol:{symbol}\")\n",
    "\n",
    "        company_info_df.to_csv(\"data/set_company_info.csv\", index=False)\n"
   ]
  },
  {
   "cell_type": "code",
   "execution_count": 15,
   "metadata": {},
   "outputs": [],
   "source": [
    "company_info_df = pd.read_csv(\"data/set_company_info.csv\")"
   ]
  },
  {
   "cell_type": "code",
   "execution_count": 16,
   "metadata": {},
   "outputs": [
    {
     "data": {
      "text/html": [
       "<div>\n",
       "<style scoped>\n",
       "    .dataframe tbody tr th:only-of-type {\n",
       "        vertical-align: middle;\n",
       "    }\n",
       "\n",
       "    .dataframe tbody tr th {\n",
       "        vertical-align: top;\n",
       "    }\n",
       "\n",
       "    .dataframe thead th {\n",
       "        text-align: right;\n",
       "    }\n",
       "</style>\n",
       "<table border=\"1\" class=\"dataframe\">\n",
       "  <thead>\n",
       "    <tr style=\"text-align: right;\">\n",
       "      <th></th>\n",
       "      <th>symbol</th>\n",
       "      <th>industry</th>\n",
       "      <th>sector</th>\n",
       "    </tr>\n",
       "  </thead>\n",
       "  <tbody>\n",
       "    <tr>\n",
       "      <th>0</th>\n",
       "      <td>24CS</td>\n",
       "      <td>Building Products &amp; Equipment</td>\n",
       "      <td>Industrials</td>\n",
       "    </tr>\n",
       "    <tr>\n",
       "      <th>1</th>\n",
       "      <td>2S</td>\n",
       "      <td>Steel</td>\n",
       "      <td>Basic Materials</td>\n",
       "    </tr>\n",
       "    <tr>\n",
       "      <th>2</th>\n",
       "      <td>3BBIF</td>\n",
       "      <td>NaN</td>\n",
       "      <td>NaN</td>\n",
       "    </tr>\n",
       "    <tr>\n",
       "      <th>3</th>\n",
       "      <td>A</td>\n",
       "      <td>Real Estate - Development</td>\n",
       "      <td>Real Estate</td>\n",
       "    </tr>\n",
       "    <tr>\n",
       "      <th>4</th>\n",
       "      <td>A5</td>\n",
       "      <td>Real Estate - Development</td>\n",
       "      <td>Real Estate</td>\n",
       "    </tr>\n",
       "  </tbody>\n",
       "</table>\n",
       "</div>"
      ],
      "text/plain": [
       "  symbol                       industry           sector\n",
       "0   24CS  Building Products & Equipment      Industrials\n",
       "1     2S                          Steel  Basic Materials\n",
       "2  3BBIF                            NaN              NaN\n",
       "3      A      Real Estate - Development      Real Estate\n",
       "4     A5      Real Estate - Development      Real Estate"
      ]
     },
     "execution_count": 16,
     "metadata": {},
     "output_type": "execute_result"
    }
   ],
   "source": [
    "company_info_df.head()"
   ]
  },
  {
   "cell_type": "code",
   "execution_count": 19,
   "metadata": {},
   "outputs": [
    {
     "name": "stdout",
     "output_type": "stream",
     "text": [
      "<class 'pandas.core.frame.DataFrame'>\n",
      "RangeIndex: 925 entries, 0 to 924\n",
      "Data columns (total 3 columns):\n",
      " #   Column    Non-Null Count  Dtype \n",
      "---  ------    --------------  ----- \n",
      " 0   symbol    925 non-null    object\n",
      " 1   industry  858 non-null    object\n",
      " 2   sector    858 non-null    object\n",
      "dtypes: object(3)\n",
      "memory usage: 21.8+ KB\n"
     ]
    }
   ],
   "source": [
    "company_info_df.info()"
   ]
  },
  {
   "cell_type": "markdown",
   "metadata": {},
   "source": [
    "## Income statement"
   ]
  },
  {
   "cell_type": "code",
   "execution_count": 22,
   "metadata": {},
   "outputs": [
    {
     "data": {
      "application/vnd.jupyter.widget-view+json": {
       "model_id": "616ba4e27078406788454e09724db367",
       "version_major": 2,
       "version_minor": 0
      },
      "text/plain": [
       "  0%|          | 0/925 [00:00<?, ?it/s]"
      ]
     },
     "metadata": {},
     "output_type": "display_data"
    }
   ],
   "source": [
    "if True:\n",
    "    incm_stmt_df = pd.DataFrame()\n",
    "    for symbol in tqdm(symbols[\"symbol\"]):\n",
    "\n",
    "        ticker = yf.Ticker(f\"{symbol}.BK\")\n",
    "\n",
    "        try:\n",
    "            _incm_stmt_df = ticker.income_stmt\n",
    "            \n",
    "            if len(_incm_stmt_df) > 0:\n",
    "\n",
    "                _incm_stmt_df = _incm_stmt_df.T\n",
    "                _incm_stmt_df = _incm_stmt_df.assign(symbol=symbol).set_index(\"symbol\", append=True)\n",
    "                _incm_stmt_df.index.names = [\"date\", \"symbol\"]\n",
    "\n",
    "                incm_stmt_df = pd.concat([incm_stmt_df, _incm_stmt_df])\n",
    "        except:\n",
    "            time.sleep(1)\n",
    "\n",
    "    incm_stmt_df.reset_index(inplace=True)\n",
    "\n",
    "    # store the data\n",
    "    incm_stmt_df.to_csv(\"data/set_incm_stmt.csv\", index=False)"
   ]
  },
  {
   "cell_type": "code",
   "execution_count": 29,
   "metadata": {},
   "outputs": [],
   "source": [
    "incm_stmt_df = pd.read_csv(\"data/set_incm_stmt.csv\")"
   ]
  },
  {
   "cell_type": "code",
   "execution_count": 30,
   "metadata": {},
   "outputs": [
    {
     "data": {
      "text/html": [
       "<div>\n",
       "<style scoped>\n",
       "    .dataframe tbody tr th:only-of-type {\n",
       "        vertical-align: middle;\n",
       "    }\n",
       "\n",
       "    .dataframe tbody tr th {\n",
       "        vertical-align: top;\n",
       "    }\n",
       "\n",
       "    .dataframe thead th {\n",
       "        text-align: right;\n",
       "    }\n",
       "</style>\n",
       "<table border=\"1\" class=\"dataframe\">\n",
       "  <thead>\n",
       "    <tr style=\"text-align: right;\">\n",
       "      <th></th>\n",
       "      <th>date</th>\n",
       "      <th>symbol</th>\n",
       "      <th>Tax Effect Of Unusual Items</th>\n",
       "      <th>Tax Rate For Calcs</th>\n",
       "      <th>Normalized EBITDA</th>\n",
       "      <th>Total Unusual Items</th>\n",
       "      <th>Total Unusual Items Excluding Goodwill</th>\n",
       "      <th>Net Income From Continuing Operation Net Minority Interest</th>\n",
       "      <th>Reconciled Depreciation</th>\n",
       "      <th>Reconciled Cost Of Revenue</th>\n",
       "      <th>...</th>\n",
       "      <th>Amortization</th>\n",
       "      <th>Amortization Of Intangibles Income Statement</th>\n",
       "      <th>Depreciation Income Statement</th>\n",
       "      <th>Insurance And Claims</th>\n",
       "      <th>Preferred Stock Dividends</th>\n",
       "      <th>Net Income From Tax Loss Carryforward</th>\n",
       "      <th>Research And Development</th>\n",
       "      <th>Earnings From Equity Interest Net Of Tax</th>\n",
       "      <th>Net Income Extraordinary</th>\n",
       "      <th>Excise Taxes</th>\n",
       "    </tr>\n",
       "  </thead>\n",
       "  <tbody>\n",
       "    <tr>\n",
       "      <th>0</th>\n",
       "      <td>2023-12-31</td>\n",
       "      <td>24CS</td>\n",
       "      <td>2.478119e+05</td>\n",
       "      <td>0.195597</td>\n",
       "      <td>-44136736.0</td>\n",
       "      <td>1266954.0</td>\n",
       "      <td>1266954.0</td>\n",
       "      <td>-45071044.0</td>\n",
       "      <td>9617938.0</td>\n",
       "      <td>6.714324e+08</td>\n",
       "      <td>...</td>\n",
       "      <td>NaN</td>\n",
       "      <td>NaN</td>\n",
       "      <td>NaN</td>\n",
       "      <td>NaN</td>\n",
       "      <td>NaN</td>\n",
       "      <td>NaN</td>\n",
       "      <td>NaN</td>\n",
       "      <td>NaN</td>\n",
       "      <td>NaN</td>\n",
       "      <td>NaN</td>\n",
       "    </tr>\n",
       "    <tr>\n",
       "      <th>1</th>\n",
       "      <td>2022-12-31</td>\n",
       "      <td>24CS</td>\n",
       "      <td>5.479578e+05</td>\n",
       "      <td>0.223307</td>\n",
       "      <td>41876591.0</td>\n",
       "      <td>2453829.0</td>\n",
       "      <td>2453829.0</td>\n",
       "      <td>24494231.0</td>\n",
       "      <td>7726356.0</td>\n",
       "      <td>8.700639e+08</td>\n",
       "      <td>...</td>\n",
       "      <td>NaN</td>\n",
       "      <td>NaN</td>\n",
       "      <td>NaN</td>\n",
       "      <td>NaN</td>\n",
       "      <td>NaN</td>\n",
       "      <td>NaN</td>\n",
       "      <td>NaN</td>\n",
       "      <td>NaN</td>\n",
       "      <td>NaN</td>\n",
       "      <td>NaN</td>\n",
       "    </tr>\n",
       "    <tr>\n",
       "      <th>2</th>\n",
       "      <td>2021-12-31</td>\n",
       "      <td>24CS</td>\n",
       "      <td>0.000000e+00</td>\n",
       "      <td>0.241495</td>\n",
       "      <td>35101165.0</td>\n",
       "      <td>0.0</td>\n",
       "      <td>0.0</td>\n",
       "      <td>19455578.0</td>\n",
       "      <td>6959244.0</td>\n",
       "      <td>5.637045e+08</td>\n",
       "      <td>...</td>\n",
       "      <td>NaN</td>\n",
       "      <td>NaN</td>\n",
       "      <td>NaN</td>\n",
       "      <td>NaN</td>\n",
       "      <td>NaN</td>\n",
       "      <td>NaN</td>\n",
       "      <td>NaN</td>\n",
       "      <td>NaN</td>\n",
       "      <td>NaN</td>\n",
       "      <td>NaN</td>\n",
       "    </tr>\n",
       "    <tr>\n",
       "      <th>3</th>\n",
       "      <td>2020-12-31</td>\n",
       "      <td>24CS</td>\n",
       "      <td>0.000000e+00</td>\n",
       "      <td>0.352007</td>\n",
       "      <td>18310000.0</td>\n",
       "      <td>NaN</td>\n",
       "      <td>NaN</td>\n",
       "      <td>6940000.0</td>\n",
       "      <td>6310000.0</td>\n",
       "      <td>3.545600e+08</td>\n",
       "      <td>...</td>\n",
       "      <td>NaN</td>\n",
       "      <td>NaN</td>\n",
       "      <td>NaN</td>\n",
       "      <td>NaN</td>\n",
       "      <td>NaN</td>\n",
       "      <td>NaN</td>\n",
       "      <td>NaN</td>\n",
       "      <td>NaN</td>\n",
       "      <td>NaN</td>\n",
       "      <td>NaN</td>\n",
       "    </tr>\n",
       "    <tr>\n",
       "      <th>4</th>\n",
       "      <td>2023-12-31</td>\n",
       "      <td>2S</td>\n",
       "      <td>-1.027415e+06</td>\n",
       "      <td>0.037799</td>\n",
       "      <td>248561000.0</td>\n",
       "      <td>-27181000.0</td>\n",
       "      <td>-27181000.0</td>\n",
       "      <td>160083000.0</td>\n",
       "      <td>55027000.0</td>\n",
       "      <td>6.351661e+09</td>\n",
       "      <td>...</td>\n",
       "      <td>NaN</td>\n",
       "      <td>NaN</td>\n",
       "      <td>NaN</td>\n",
       "      <td>NaN</td>\n",
       "      <td>NaN</td>\n",
       "      <td>NaN</td>\n",
       "      <td>NaN</td>\n",
       "      <td>NaN</td>\n",
       "      <td>NaN</td>\n",
       "      <td>NaN</td>\n",
       "    </tr>\n",
       "  </tbody>\n",
       "</table>\n",
       "<p>5 rows × 77 columns</p>\n",
       "</div>"
      ],
      "text/plain": [
       "         date symbol  Tax Effect Of Unusual Items  Tax Rate For Calcs  \\\n",
       "0  2023-12-31   24CS                 2.478119e+05            0.195597   \n",
       "1  2022-12-31   24CS                 5.479578e+05            0.223307   \n",
       "2  2021-12-31   24CS                 0.000000e+00            0.241495   \n",
       "3  2020-12-31   24CS                 0.000000e+00            0.352007   \n",
       "4  2023-12-31     2S                -1.027415e+06            0.037799   \n",
       "\n",
       "   Normalized EBITDA  Total Unusual Items  \\\n",
       "0        -44136736.0            1266954.0   \n",
       "1         41876591.0            2453829.0   \n",
       "2         35101165.0                  0.0   \n",
       "3         18310000.0                  NaN   \n",
       "4        248561000.0          -27181000.0   \n",
       "\n",
       "   Total Unusual Items Excluding Goodwill  \\\n",
       "0                               1266954.0   \n",
       "1                               2453829.0   \n",
       "2                                     0.0   \n",
       "3                                     NaN   \n",
       "4                             -27181000.0   \n",
       "\n",
       "   Net Income From Continuing Operation Net Minority Interest  \\\n",
       "0                                        -45071044.0            \n",
       "1                                         24494231.0            \n",
       "2                                         19455578.0            \n",
       "3                                          6940000.0            \n",
       "4                                        160083000.0            \n",
       "\n",
       "   Reconciled Depreciation  Reconciled Cost Of Revenue  ...  Amortization  \\\n",
       "0                9617938.0                6.714324e+08  ...           NaN   \n",
       "1                7726356.0                8.700639e+08  ...           NaN   \n",
       "2                6959244.0                5.637045e+08  ...           NaN   \n",
       "3                6310000.0                3.545600e+08  ...           NaN   \n",
       "4               55027000.0                6.351661e+09  ...           NaN   \n",
       "\n",
       "   Amortization Of Intangibles Income Statement  \\\n",
       "0                                           NaN   \n",
       "1                                           NaN   \n",
       "2                                           NaN   \n",
       "3                                           NaN   \n",
       "4                                           NaN   \n",
       "\n",
       "   Depreciation Income Statement  Insurance And Claims  \\\n",
       "0                            NaN                   NaN   \n",
       "1                            NaN                   NaN   \n",
       "2                            NaN                   NaN   \n",
       "3                            NaN                   NaN   \n",
       "4                            NaN                   NaN   \n",
       "\n",
       "   Preferred Stock Dividends  Net Income From Tax Loss Carryforward  \\\n",
       "0                        NaN                                    NaN   \n",
       "1                        NaN                                    NaN   \n",
       "2                        NaN                                    NaN   \n",
       "3                        NaN                                    NaN   \n",
       "4                        NaN                                    NaN   \n",
       "\n",
       "   Research And Development  Earnings From Equity Interest Net Of Tax  \\\n",
       "0                       NaN                                       NaN   \n",
       "1                       NaN                                       NaN   \n",
       "2                       NaN                                       NaN   \n",
       "3                       NaN                                       NaN   \n",
       "4                       NaN                                       NaN   \n",
       "\n",
       "   Net Income Extraordinary  Excise Taxes  \n",
       "0                       NaN           NaN  \n",
       "1                       NaN           NaN  \n",
       "2                       NaN           NaN  \n",
       "3                       NaN           NaN  \n",
       "4                       NaN           NaN  \n",
       "\n",
       "[5 rows x 77 columns]"
      ]
     },
     "execution_count": 30,
     "metadata": {},
     "output_type": "execute_result"
    }
   ],
   "source": [
    "incm_stmt_df.head()"
   ]
  },
  {
   "cell_type": "code",
   "execution_count": 32,
   "metadata": {},
   "outputs": [
    {
     "name": "stdout",
     "output_type": "stream",
     "text": [
      "<class 'pandas.core.frame.DataFrame'>\n",
      "RangeIndex: 3499 entries, 0 to 3498\n",
      "Data columns (total 77 columns):\n",
      " #   Column                                                      Non-Null Count  Dtype  \n",
      "---  ------                                                      --------------  -----  \n",
      " 0   date                                                        3499 non-null   object \n",
      " 1   symbol                                                      3499 non-null   object \n",
      " 2   Tax Effect Of Unusual Items                                 3468 non-null   float64\n",
      " 3   Tax Rate For Calcs                                          3468 non-null   float64\n",
      " 4   Normalized EBITDA                                           3352 non-null   float64\n",
      " 5   Total Unusual Items                                         2641 non-null   float64\n",
      " 6   Total Unusual Items Excluding Goodwill                      2641 non-null   float64\n",
      " 7   Net Income From Continuing Operation Net Minority Interest  3468 non-null   float64\n",
      " 8   Reconciled Depreciation                                     3267 non-null   float64\n",
      " 9   Reconciled Cost Of Revenue                                  3348 non-null   float64\n",
      " 10  EBITDA                                                      3352 non-null   float64\n",
      " 11  EBIT                                                        3384 non-null   float64\n",
      " 12  Net Interest Income                                         3386 non-null   float64\n",
      " 13  Interest Expense                                            3314 non-null   float64\n",
      " 14  Interest Income                                             2098 non-null   float64\n",
      " 15  Normalized Income                                           3468 non-null   float64\n",
      " 16  Net Income From Continuing And Discontinued Operation       3468 non-null   float64\n",
      " 17  Total Expenses                                              3406 non-null   float64\n",
      " 18  Diluted Average Shares                                      3466 non-null   float64\n",
      " 19  Basic Average Shares                                        3466 non-null   float64\n",
      " 20  Diluted EPS                                                 3466 non-null   float64\n",
      " 21  Basic EPS                                                   3466 non-null   float64\n",
      " 22  Diluted NI Availto Com Stockholders                         3467 non-null   float64\n",
      " 23  Net Income Common Stockholders                              3468 non-null   float64\n",
      " 24  Net Income                                                  3468 non-null   float64\n",
      " 25  Net Income Including Noncontrolling Interests               3468 non-null   float64\n",
      " 26  Net Income Continuous Operations                            3468 non-null   float64\n",
      " 27  Tax Provision                                               3318 non-null   float64\n",
      " 28  Pretax Income                                               3468 non-null   float64\n",
      " 29  Other Income Expense                                        3074 non-null   float64\n",
      " 30  Other Non Operating Income Expenses                         2196 non-null   float64\n",
      " 31  Special Income Charges                                      1908 non-null   float64\n",
      " 32  Gain On Sale Of Ppe                                         759 non-null    float64\n",
      " 33  Other Special Charges                                       305 non-null    float64\n",
      " 34  Gain On Sale Of Security                                    2067 non-null   float64\n",
      " 35  Net Non Operating Interest Income Expense                   3323 non-null   float64\n",
      " 36  Interest Expense Non Operating                              3251 non-null   float64\n",
      " 37  Interest Income Non Operating                               2003 non-null   float64\n",
      " 38  Operating Income                                            3353 non-null   float64\n",
      " 39  Operating Expense                                           3342 non-null   float64\n",
      " 40  Selling General And Administration                          3396 non-null   float64\n",
      " 41  Selling And Marketing Expense                               2775 non-null   float64\n",
      " 42  General And Administrative Expense                          3379 non-null   float64\n",
      " 43  Other Gand A                                                3276 non-null   float64\n",
      " 44  Salaries And Wages                                          498 non-null    float64\n",
      " 45  Gross Profit                                                3348 non-null   float64\n",
      " 46  Cost Of Revenue                                             3348 non-null   float64\n",
      " 47  Total Revenue                                               3468 non-null   float64\n",
      " 48  Operating Revenue                                           3468 non-null   float64\n",
      " 49  Minority Interests                                          2298 non-null   float64\n",
      " 50  Impairment Of Capital Assets                                402 non-null    float64\n",
      " 51  Total Operating Income As Reported                          2339 non-null   float64\n",
      " 52  Otherunder Preferred Stock Dividend                         73 non-null     float64\n",
      " 53  Total Other Finance Cost                                    420 non-null    float64\n",
      " 54  Other Operating Expenses                                    2356 non-null   float64\n",
      " 55  Other Taxes                                                 114 non-null    float64\n",
      " 56  Depreciation Amortization Depletion Income Statement        286 non-null    float64\n",
      " 57  Depreciation And Amortization In Income Statement           289 non-null    float64\n",
      " 58  Earnings From Equity Interest                               1626 non-null   float64\n",
      " 59  Provision For Doubtful Accounts                             586 non-null    float64\n",
      " 60  Rent Expense Supplemental                                   1067 non-null   float64\n",
      " 61  Write Off                                                   1098 non-null   float64\n",
      " 62  Rent And Landing Fees                                       143 non-null    float64\n",
      " 63  Net Income Discontinuous Operations                         215 non-null    float64\n",
      " 64  Gain On Sale Of Business                                    505 non-null    float64\n",
      " 65  Restructuring And Mergern Acquisition                       160 non-null    float64\n",
      " 66  Average Dilution Earnings                                   7 non-null      float64\n",
      " 67  Amortization                                                30 non-null     float64\n",
      " 68  Amortization Of Intangibles Income Statement                30 non-null     float64\n",
      " 69  Depreciation Income Statement                               46 non-null     float64\n",
      " 70  Insurance And Claims                                        67 non-null     float64\n",
      " 71  Preferred Stock Dividends                                   6 non-null      float64\n",
      " 72  Net Income From Tax Loss Carryforward                       27 non-null     float64\n",
      " 73  Research And Development                                    12 non-null     float64\n",
      " 74  Earnings From Equity Interest Net Of Tax                    6 non-null      float64\n",
      " 75  Net Income Extraordinary                                    3 non-null      float64\n",
      " 76  Excise Taxes                                                1 non-null      float64\n",
      "dtypes: float64(75), object(2)\n",
      "memory usage: 2.1+ MB\n"
     ]
    }
   ],
   "source": [
    "incm_stmt_df.info()"
   ]
  },
  {
   "cell_type": "code",
   "execution_count": null,
   "metadata": {},
   "outputs": [],
   "source": []
  }
 ],
 "metadata": {
  "kernelspec": {
   "display_name": "data-sci-3.10",
   "language": "python",
   "name": "python3"
  },
  "language_info": {
   "codemirror_mode": {
    "name": "ipython",
    "version": 3
   },
   "file_extension": ".py",
   "mimetype": "text/x-python",
   "name": "python",
   "nbconvert_exporter": "python",
   "pygments_lexer": "ipython3",
   "version": "3.10.10"
  }
 },
 "nbformat": 4,
 "nbformat_minor": 2
}
