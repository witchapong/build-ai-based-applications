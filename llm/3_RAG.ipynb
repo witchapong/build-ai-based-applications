{
 "cells": [
  {
   "cell_type": "markdown",
   "metadata": {},
   "source": [
    "[![Open In Colab](https://colab.research.google.com/assets/colab-badge.svg)](https://colab.research.google.com/github/witchapong/build-ai-based-applications/blob/main/llm/3_RAG.ipynb)"
   ]
  },
  {
   "cell_type": "markdown",
   "metadata": {
    "id": "qjdRIOhEl98O"
   },
   "source": [
    "# RAG\n",
    "In this notebook, we'll build a RAG chatbot which is basically a ChatGPT model that could answer by referencing to user-provided documents.\n",
    "\n",
    "The content of this notebook is mainly modified from content from [KBTG M.A.D.Bootcamp](https://kbtgkampus.tech/)."
   ]
  },
  {
   "cell_type": "code",
   "execution_count": 1,
   "metadata": {
    "colab": {
     "base_uri": "https://localhost:8080/"
    },
    "executionInfo": {
     "elapsed": 61398,
     "status": "ok",
     "timestamp": 1740143391781,
     "user": {
      "displayName": "Witchapong Daroontham",
      "userId": "15288324432596741279"
     },
     "user_tz": -420
    },
    "id": "VqzcAkzuNML2",
    "outputId": "6cb6f42a-1500-4b50-a0d6-93b525224ea4"
   },
   "outputs": [
    {
     "name": "stdout",
     "output_type": "stream",
     "text": [
      "\u001b[2K     \u001b[90m━━━━━━━━━━━━━━━━━━━━━━━━━━━━━━━━━━━━━━━━\u001b[0m \u001b[32m981.5/981.5 kB\u001b[0m \u001b[31m8.8 MB/s\u001b[0m eta \u001b[36m0:00:00\u001b[0m\n",
      "\u001b[?25h  Preparing metadata (setup.py) ... \u001b[?25l\u001b[?25hdone\n",
      "\u001b[2K     \u001b[90m━━━━━━━━━━━━━━━━━━━━━━━━━━━━━━━━━━━━━━━━\u001b[0m \u001b[32m67.3/67.3 kB\u001b[0m \u001b[31m7.0 MB/s\u001b[0m eta \u001b[36m0:00:00\u001b[0m\n",
      "\u001b[?25h  Installing build dependencies ... \u001b[?25l\u001b[?25hdone\n",
      "  Getting requirements to build wheel ... \u001b[?25l\u001b[?25hdone\n",
      "  Preparing metadata (pyproject.toml) ... \u001b[?25l\u001b[?25hdone\n",
      "\u001b[2K   \u001b[90m━━━━━━━━━━━━━━━━━━━━━━━━━━━━━━━━━━━━━━━━\u001b[0m \u001b[32m2.5/2.5 MB\u001b[0m \u001b[31m43.2 MB/s\u001b[0m eta \u001b[36m0:00:00\u001b[0m\n",
      "\u001b[2K   \u001b[90m━━━━━━━━━━━━━━━━━━━━━━━━━━━━━━━━━━━━━━━━\u001b[0m \u001b[32m1.0/1.0 MB\u001b[0m \u001b[31m35.5 MB/s\u001b[0m eta \u001b[36m0:00:00\u001b[0m\n",
      "\u001b[2K   \u001b[90m━━━━━━━━━━━━━━━━━━━━━━━━━━━━━━━━━━━━━━━━\u001b[0m \u001b[32m54.9/54.9 kB\u001b[0m \u001b[31m4.9 MB/s\u001b[0m eta \u001b[36m0:00:00\u001b[0m\n",
      "\u001b[2K   \u001b[90m━━━━━━━━━━━━━━━━━━━━━━━━━━━━━━━━━━━━━━━━\u001b[0m \u001b[32m151.4/151.4 kB\u001b[0m \u001b[31m13.4 MB/s\u001b[0m eta \u001b[36m0:00:00\u001b[0m\n",
      "\u001b[2K   \u001b[90m━━━━━━━━━━━━━━━━━━━━━━━━━━━━━━━━━━━━━━━━\u001b[0m \u001b[32m20.0/20.0 MB\u001b[0m \u001b[31m34.1 MB/s\u001b[0m eta \u001b[36m0:00:00\u001b[0m\n",
      "\u001b[2K   \u001b[90m━━━━━━━━━━━━━━━━━━━━━━━━━━━━━━━━━━━━━━━━\u001b[0m \u001b[32m1.8/1.8 MB\u001b[0m \u001b[31m59.0 MB/s\u001b[0m eta \u001b[36m0:00:00\u001b[0m\n",
      "\u001b[2K   \u001b[90m━━━━━━━━━━━━━━━━━━━━━━━━━━━━━━━━━━━━━━━━\u001b[0m \u001b[32m111.0/111.0 kB\u001b[0m \u001b[31m10.2 MB/s\u001b[0m eta \u001b[36m0:00:00\u001b[0m\n",
      "\u001b[2K   \u001b[90m━━━━━━━━━━━━━━━━━━━━━━━━━━━━━━━━━━━━━━━━\u001b[0m \u001b[32m611.1/611.1 kB\u001b[0m \u001b[31m37.0 MB/s\u001b[0m eta \u001b[36m0:00:00\u001b[0m\n",
      "\u001b[2K   \u001b[90m━━━━━━━━━━━━━━━━━━━━━━━━━━━━━━━━━━━━━━━━\u001b[0m \u001b[32m2.4/2.4 MB\u001b[0m \u001b[31m45.0 MB/s\u001b[0m eta \u001b[36m0:00:00\u001b[0m\n",
      "\u001b[2K   \u001b[90m━━━━━━━━━━━━━━━━━━━━━━━━━━━━━━━━━━━━━━━━\u001b[0m \u001b[32m413.7/413.7 kB\u001b[0m \u001b[31m30.1 MB/s\u001b[0m eta \u001b[36m0:00:00\u001b[0m\n",
      "\u001b[2K   \u001b[90m━━━━━━━━━━━━━━━━━━━━━━━━━━━━━━━━━━━━━━━━\u001b[0m \u001b[32m45.4/45.4 kB\u001b[0m \u001b[31m4.4 MB/s\u001b[0m eta \u001b[36m0:00:00\u001b[0m\n",
      "\u001b[2K   \u001b[90m━━━━━━━━━━━━━━━━━━━━━━━━━━━━━━━━━━━━━━━━\u001b[0m \u001b[32m1.2/1.2 MB\u001b[0m \u001b[31m55.7 MB/s\u001b[0m eta \u001b[36m0:00:00\u001b[0m\n",
      "\u001b[2K   \u001b[90m━━━━━━━━━━━━━━━━━━━━━━━━━━━━━━━━━━━━━━━━\u001b[0m \u001b[32m590.6/590.6 kB\u001b[0m \u001b[31m35.3 MB/s\u001b[0m eta \u001b[36m0:00:00\u001b[0m\n",
      "\u001b[2K   \u001b[90m━━━━━━━━━━━━━━━━━━━━━━━━━━━━━━━━━━━━━━━━\u001b[0m \u001b[32m167.6/167.6 kB\u001b[0m \u001b[31m13.7 MB/s\u001b[0m eta \u001b[36m0:00:00\u001b[0m\n",
      "\u001b[2K   \u001b[90m━━━━━━━━━━━━━━━━━━━━━━━━━━━━━━━━━━━━━━━━\u001b[0m \u001b[32m3.1/3.1 MB\u001b[0m \u001b[31m38.1 MB/s\u001b[0m eta \u001b[36m0:00:00\u001b[0m\n",
      "\u001b[2K   \u001b[90m━━━━━━━━━━━━━━━━━━━━━━━━━━━━━━━━━━━━━━━━\u001b[0m \u001b[32m113.6/113.6 kB\u001b[0m \u001b[31m10.1 MB/s\u001b[0m eta \u001b[36m0:00:00\u001b[0m\n",
      "\u001b[2K   \u001b[90m━━━━━━━━━━━━━━━━━━━━━━━━━━━━━━━━━━━━━━━━\u001b[0m \u001b[32m278.6/278.6 kB\u001b[0m \u001b[31m20.0 MB/s\u001b[0m eta \u001b[36m0:00:00\u001b[0m\n",
      "\u001b[2K   \u001b[90m━━━━━━━━━━━━━━━━━━━━━━━━━━━━━━━━━━━━━━━━\u001b[0m \u001b[32m94.8/94.8 kB\u001b[0m \u001b[31m9.4 MB/s\u001b[0m eta \u001b[36m0:00:00\u001b[0m\n",
      "\u001b[2K   \u001b[90m━━━━━━━━━━━━━━━━━━━━━━━━━━━━━━━━━━━━━━━━\u001b[0m \u001b[32m2.0/2.0 MB\u001b[0m \u001b[31m49.5 MB/s\u001b[0m eta \u001b[36m0:00:00\u001b[0m\n",
      "\u001b[2K   \u001b[90m━━━━━━━━━━━━━━━━━━━━━━━━━━━━━━━━━━━━━━━━\u001b[0m \u001b[32m50.9/50.9 kB\u001b[0m \u001b[31m4.6 MB/s\u001b[0m eta \u001b[36m0:00:00\u001b[0m\n",
      "\u001b[2K   \u001b[90m━━━━━━━━━━━━━━━━━━━━━━━━━━━━━━━━━━━━━━━━\u001b[0m \u001b[32m101.6/101.6 kB\u001b[0m \u001b[31m10.8 MB/s\u001b[0m eta \u001b[36m0:00:00\u001b[0m\n",
      "\u001b[2K   \u001b[90m━━━━━━━━━━━━━━━━━━━━━━━━━━━━━━━━━━━━━━━━\u001b[0m \u001b[32m13.3/13.3 MB\u001b[0m \u001b[31m65.0 MB/s\u001b[0m eta \u001b[36m0:00:00\u001b[0m\n",
      "\u001b[2K   \u001b[90m━━━━━━━━━━━━━━━━━━━━━━━━━━━━━━━━━━━━━━━━\u001b[0m \u001b[32m55.9/55.9 kB\u001b[0m \u001b[31m4.5 MB/s\u001b[0m eta \u001b[36m0:00:00\u001b[0m\n",
      "\u001b[2K   \u001b[90m━━━━━━━━━━━━━━━━━━━━━━━━━━━━━━━━━━━━━━━━\u001b[0m \u001b[32m177.4/177.4 kB\u001b[0m \u001b[31m14.9 MB/s\u001b[0m eta \u001b[36m0:00:00\u001b[0m\n",
      "\u001b[2K   \u001b[90m━━━━━━━━━━━━━━━━━━━━━━━━━━━━━━━━━━━━━━━━\u001b[0m \u001b[32m65.0/65.0 kB\u001b[0m \u001b[31m6.9 MB/s\u001b[0m eta \u001b[36m0:00:00\u001b[0m\n",
      "\u001b[2K   \u001b[90m━━━━━━━━━━━━━━━━━━━━━━━━━━━━━━━━━━━━━━━━\u001b[0m \u001b[32m118.7/118.7 kB\u001b[0m \u001b[31m12.9 MB/s\u001b[0m eta \u001b[36m0:00:00\u001b[0m\n",
      "\u001b[2K   \u001b[90m━━━━━━━━━━━━━━━━━━━━━━━━━━━━━━━━━━━━━━━━\u001b[0m \u001b[32m73.9/73.9 kB\u001b[0m \u001b[31m7.7 MB/s\u001b[0m eta \u001b[36m0:00:00\u001b[0m\n",
      "\u001b[2K   \u001b[90m━━━━━━━━━━━━━━━━━━━━━━━━━━━━━━━━━━━━━━━━\u001b[0m \u001b[32m300.7/300.7 kB\u001b[0m \u001b[31m24.9 MB/s\u001b[0m eta \u001b[36m0:00:00\u001b[0m\n",
      "\u001b[2K   \u001b[90m━━━━━━━━━━━━━━━━━━━━━━━━━━━━━━━━━━━━━━━━\u001b[0m \u001b[32m62.3/62.3 kB\u001b[0m \u001b[31m5.1 MB/s\u001b[0m eta \u001b[36m0:00:00\u001b[0m\n",
      "\u001b[2K   \u001b[90m━━━━━━━━━━━━━━━━━━━━━━━━━━━━━━━━━━━━━━━━\u001b[0m \u001b[32m114.6/114.6 kB\u001b[0m \u001b[31m12.4 MB/s\u001b[0m eta \u001b[36m0:00:00\u001b[0m\n",
      "\u001b[2K   \u001b[90m━━━━━━━━━━━━━━━━━━━━━━━━━━━━━━━━━━━━━━━━\u001b[0m \u001b[32m459.8/459.8 kB\u001b[0m \u001b[31m32.8 MB/s\u001b[0m eta \u001b[36m0:00:00\u001b[0m\n",
      "\u001b[2K   \u001b[90m━━━━━━━━━━━━━━━━━━━━━━━━━━━━━━━━━━━━━━━━\u001b[0m \u001b[32m319.7/319.7 kB\u001b[0m \u001b[31m27.0 MB/s\u001b[0m eta \u001b[36m0:00:00\u001b[0m\n",
      "\u001b[2K   \u001b[90m━━━━━━━━━━━━━━━━━━━━━━━━━━━━━━━━━━━━━━━━\u001b[0m \u001b[32m71.5/71.5 kB\u001b[0m \u001b[31m7.7 MB/s\u001b[0m eta \u001b[36m0:00:00\u001b[0m\n",
      "\u001b[2K   \u001b[90m━━━━━━━━━━━━━━━━━━━━━━━━━━━━━━━━━━━━━━━━\u001b[0m \u001b[32m4.0/4.0 MB\u001b[0m \u001b[31m34.4 MB/s\u001b[0m eta \u001b[36m0:00:00\u001b[0m\n",
      "\u001b[2K   \u001b[90m━━━━━━━━━━━━━━━━━━━━━━━━━━━━━━━━━━━━━━━━\u001b[0m \u001b[32m452.6/452.6 kB\u001b[0m \u001b[31m24.2 MB/s\u001b[0m eta \u001b[36m0:00:00\u001b[0m\n",
      "\u001b[2K   \u001b[90m━━━━━━━━━━━━━━━━━━━━━━━━━━━━━━━━━━━━━━━━\u001b[0m \u001b[32m46.0/46.0 kB\u001b[0m \u001b[31m4.1 MB/s\u001b[0m eta \u001b[36m0:00:00\u001b[0m\n",
      "\u001b[2K   \u001b[90m━━━━━━━━━━━━━━━━━━━━━━━━━━━━━━━━━━━━━━━━\u001b[0m \u001b[32m86.8/86.8 kB\u001b[0m \u001b[31m8.1 MB/s\u001b[0m eta \u001b[36m0:00:00\u001b[0m\n",
      "\u001b[?25h  Building wheel for langdetect (setup.py) ... \u001b[?25l\u001b[?25hdone\n",
      "  Building wheel for pypika (pyproject.toml) ... \u001b[?25l\u001b[?25hdone\n"
     ]
    }
   ],
   "source": [
    "# Uncomment this cell to install required libraries if you have not already done so\n",
    "!pip -q install numpy pandas langchain langchain-community langchain-openai langchain-chroma \\\n",
    "langgraph langchainhub python-dotenv bs4 pymupdf unstructured lark nltk"
   ]
  },
  {
   "cell_type": "markdown",
   "metadata": {
    "id": "SiGnt5BocHYr"
   },
   "source": [
    "# What is Retrieval Augmented Generation (RAG)?\n",
    "\n",
    "Retrieval-Augmented Generation (RAG) is the process of optimizing the output of a large language model, so it references an authoritative knowledge base outside of its training data sources before generating a response.\n",
    "\n",
    "![RAG diagram](https://blogs.nvidia.com/wp-content/uploads/2023/11/NVIDIA-RAG-diagram-scaled.jpg)\n",
    "\n",
    "source: https://blogs.nvidia.com/blog/what-is-retrieval-augmented-generation/"
   ]
  },
  {
   "cell_type": "markdown",
   "metadata": {
    "id": "OrOlQi68cKZV"
   },
   "source": [
    "# 1. Document loading\n",
    "\n",
    "For a full documentation about document loader, see here:\n",
    "\n",
    "https://python.langchain.com/v0.2/docs/integrations/document_loaders/"
   ]
  },
  {
   "cell_type": "code",
   "execution_count": 2,
   "metadata": {
    "executionInfo": {
     "elapsed": 1280,
     "status": "ok",
     "timestamp": 1740143393059,
     "user": {
      "displayName": "Witchapong Daroontham",
      "userId": "15288324432596741279"
     },
     "user_tz": -420
    },
    "id": "_LC8SJgdcCYM"
   },
   "outputs": [],
   "source": [
    "from langchain_community.document_loaders import DirectoryLoader, TextLoader, PyMuPDFLoader"
   ]
  },
  {
   "cell_type": "markdown",
   "metadata": {
    "id": "mPRYpUDscQC7"
   },
   "source": [
    "## 1.1 Loading PDF file"
   ]
  },
  {
   "cell_type": "code",
   "execution_count": 3,
   "metadata": {
    "colab": {
     "base_uri": "https://localhost:8080/"
    },
    "executionInfo": {
     "elapsed": 18492,
     "status": "ok",
     "timestamp": 1740143416596,
     "user": {
      "displayName": "Witchapong Daroontham",
      "userId": "15288324432596741279"
     },
     "user_tz": -420
    },
    "id": "pa4j7lbLloKA",
    "outputId": "70169321-3394-4717-fef0-954a1767a459"
   },
   "outputs": [
    {
     "name": "stdout",
     "output_type": "stream",
     "text": [
      "Mounted at /content/drive\n"
     ]
    }
   ],
   "source": [
    "# mount Google Drive\n",
    "from google.colab import drive\n",
    "drive.mount('/content/drive', force_remount=True)"
   ]
  },
  {
   "cell_type": "code",
   "execution_count": 4,
   "metadata": {
    "executionInfo": {
     "elapsed": 2856,
     "status": "ok",
     "timestamp": 1740143426742,
     "user": {
      "displayName": "Witchapong Daroontham",
      "userId": "15288324432596741279"
     },
     "user_tz": -420
    },
    "id": "uravS15VcQWx"
   },
   "outputs": [],
   "source": [
    "loader = PyMuPDFLoader(\"/content/drive/MyDrive/build-ai-based-applications/probability_textbook_ee.pdf\")\n",
    "pdf_docs = loader.load()"
   ]
  },
  {
   "cell_type": "code",
   "execution_count": 5,
   "metadata": {
    "colab": {
     "base_uri": "https://localhost:8080/"
    },
    "executionInfo": {
     "elapsed": 6,
     "status": "ok",
     "timestamp": 1740143426750,
     "user": {
      "displayName": "Witchapong Daroontham",
      "userId": "15288324432596741279"
     },
     "user_tz": -420
    },
    "id": "L9aT7PmgccID",
    "outputId": "15f36898-03ec-448b-9bb5-fe013dacb067"
   },
   "outputs": [
    {
     "data": {
      "text/plain": [
       "537"
      ]
     },
     "execution_count": 5,
     "metadata": {},
     "output_type": "execute_result"
    }
   ],
   "source": [
    "len(pdf_docs)"
   ]
  },
  {
   "cell_type": "code",
   "execution_count": 6,
   "metadata": {
    "colab": {
     "base_uri": "https://localhost:8080/"
    },
    "executionInfo": {
     "elapsed": 47,
     "status": "ok",
     "timestamp": 1740143427063,
     "user": {
      "displayName": "Witchapong Daroontham",
      "userId": "15288324432596741279"
     },
     "user_tz": -420
    },
    "id": "EhxCwo3-cdh9",
    "outputId": "868f886d-b98e-4e86-8fee-3f8a1e0facd6"
   },
   "outputs": [
    {
     "data": {
      "text/plain": [
       "Document(metadata={'producer': 'Acrobat Distiller 5.0.5 (Windows)', 'creator': 'dvips(k) 5.90a Copyright 2002 Radical Eye Software', 'creationdate': '2004-08-16T15:20:18+00:00', 'source': '/content/drive/MyDrive/build-ai-based-applications/probability_textbook_ee.pdf', 'file_path': '/content/drive/MyDrive/build-ai-based-applications/probability_textbook_ee.pdf', 'total_pages': 537, 'format': 'PDF 1.3', 'title': 'probww.dvi', 'author': '', 'subject': '', 'keywords': '', 'moddate': '2006-12-16T13:50:39-08:00', 'trapped': '', 'modDate': \"D:20061216135039-08'00'\", 'creationDate': 'D:20040816152018Z', 'page': 300}, page_content='7.3\\nPOINT ESTIMATES OF MODEL PARAMETERS\\n283\\nTheorem 7.7 is better known as the weak law of large numbers, which we restate here in\\ntwo equivalent forms.\\nTheorem 7.8\\nWeak Law of Large Numbers\\nIf X has ﬁnite variance, then for any constant c > 0,\\n(a)\\nlim\\nn→∞P[|Mn(X) −µX| ≥c] = 0,\\n(b)\\nlim\\nn→∞P[|Mn(X) −µX| < c] = 1.\\nTheorem 7.8(a) is just the mathematical statement of Theorem 7.7 that the sample mean is\\nconsistent. Theorems 7.8(a) and 7.8(b) are equivalent statements because\\nP [|Mn(X) −µX| ≥c] = 1 −P [|Mn(X) −µX| < c] .\\n(7.19)\\nIn words, Theorem 7.8(b) says that the probability that the sample mean is within ±c units\\nof E[X] goes to one as the number of samples approaches inﬁnity. Since c can be arbitrarily\\nsmall (e.g., 10−2000), Theorem 7.8(b) can be interpreted by saying that the sample mean\\nconverges to E[X] as the number of samples increases without bound. The weak law of\\nlarge numbers is a very general result because it holds for all random variables X with\\nﬁnite variance. Moreover, we do not need to know any of the parameters, such as mean or\\nvariance, of random varaiable X.\\nAs we see in the next theorem, the weak law of large numbers validates the relative\\nfrequency interpretation of probabilities.\\nTheorem 7.9\\nAs n →∞, the relative frequency ˆPn(A) converges to P[A]; for any constant c > 0,\\nlim\\nn→∞P\\n\",,, ˆPn(A) −P [A]\\n,,, ≥c\\n#\\n= 0.\\nProof The proof follows from Theorem 7.4 since ˆPn(A) = Mn(X A) is the sample mean of the\\nindicator X A, which has mean E[X A] = P[A] and ﬁnite variance Var[X A] = P[A](1 −P[A]).\\nTheorem 7.9 is a mathematical version of the statement that as the number of observations\\ngrows without limit, the relative frequency of any event approaches the probability of the\\nevent.\\nThe adjective weak in the weak law of large numbers suggests that there is also a strong\\nlaw. They differ in the nature of the convergence of M n(X) to µX. The convergence in\\nTheorem 7.8 is an example of convergence in probability.\\nDeﬁnition 7.6\\nConvergence in Probability\\nThe random sequence Yn converges in probability to a constant y if for any ϵ > 0,\\nlim\\nn→∞P [|Yn −y| ≥ϵ] = 0.\\nThe weak law of large numbers (Theorem 7.8) is an example of convergence in probability\\nin which Yn = Mn(X), y = E[X], and ϵ = c.')"
      ]
     },
     "execution_count": 6,
     "metadata": {},
     "output_type": "execute_result"
    }
   ],
   "source": [
    "pdf_docs[300]"
   ]
  },
  {
   "cell_type": "code",
   "execution_count": 7,
   "metadata": {
    "colab": {
     "base_uri": "https://localhost:8080/"
    },
    "executionInfo": {
     "elapsed": 14,
     "status": "ok",
     "timestamp": 1740143428546,
     "user": {
      "displayName": "Witchapong Daroontham",
      "userId": "15288324432596741279"
     },
     "user_tz": -420
    },
    "id": "UwFV_SS7cevC",
    "outputId": "df958808-e06f-4472-8ff1-aab9c7b820af"
   },
   "outputs": [
    {
     "data": {
      "text/plain": [
       "{'producer': 'Acrobat Distiller 5.0.5 (Windows)',\n",
       " 'creator': 'dvips(k) 5.90a Copyright 2002 Radical Eye Software',\n",
       " 'creationdate': '2004-08-16T15:20:18+00:00',\n",
       " 'source': '/content/drive/MyDrive/build-ai-based-applications/probability_textbook_ee.pdf',\n",
       " 'file_path': '/content/drive/MyDrive/build-ai-based-applications/probability_textbook_ee.pdf',\n",
       " 'total_pages': 537,\n",
       " 'format': 'PDF 1.3',\n",
       " 'title': 'probww.dvi',\n",
       " 'author': '',\n",
       " 'subject': '',\n",
       " 'keywords': '',\n",
       " 'moddate': '2006-12-16T13:50:39-08:00',\n",
       " 'trapped': '',\n",
       " 'modDate': \"D:20061216135039-08'00'\",\n",
       " 'creationDate': 'D:20040816152018Z',\n",
       " 'page': 300}"
      ]
     },
     "execution_count": 7,
     "metadata": {},
     "output_type": "execute_result"
    }
   ],
   "source": [
    "pdf_docs[300].metadata"
   ]
  },
  {
   "cell_type": "markdown",
   "metadata": {
    "id": "EnauaNZwcwRr"
   },
   "source": [
    "# 2. Document Splitting\n",
    "\n",
    "Documents will be splitted into chunks, possibly with overlap between consecutive chunks"
   ]
  },
  {
   "cell_type": "code",
   "execution_count": 8,
   "metadata": {
    "executionInfo": {
     "elapsed": 27,
     "status": "ok",
     "timestamp": 1740143430134,
     "user": {
      "displayName": "Witchapong Daroontham",
      "userId": "15288324432596741279"
     },
     "user_tz": -420
    },
    "id": "hBR8GKRscwnn"
   },
   "outputs": [],
   "source": [
    "from langchain.text_splitter import RecursiveCharacterTextSplitter, CharacterTextSplitter"
   ]
  },
  {
   "cell_type": "markdown",
   "metadata": {
    "id": "zRFFbj0ydAIB"
   },
   "source": [
    "# 3. Embed documents and store in VectorDB"
   ]
  },
  {
   "cell_type": "code",
   "execution_count": 10,
   "metadata": {
    "executionInfo": {
     "elapsed": 3,
     "status": "ok",
     "timestamp": 1740143443331,
     "user": {
      "displayName": "Witchapong Daroontham",
      "userId": "15288324432596741279"
     },
     "user_tz": -420
    },
    "id": "nEAyo2yEc-kR"
   },
   "outputs": [],
   "source": [
    "import os\n",
    "os.environ['OPENAI_API_KEY'] = \"YOUR-SECRET-API-KEY\""
   ]
  },
  {
   "cell_type": "code",
   "execution_count": 11,
   "metadata": {
    "executionInfo": {
     "elapsed": 1117,
     "status": "ok",
     "timestamp": 1740143460063,
     "user": {
      "displayName": "Witchapong Daroontham",
      "userId": "15288324432596741279"
     },
     "user_tz": -420
    },
    "id": "H5Nf83zYdFm6"
   },
   "outputs": [],
   "source": [
    "from langchain_openai import OpenAIEmbeddings\n",
    "from langchain_community.vectorstores import Chroma\n",
    "from tqdm import tqdm\n",
    "\n",
    "splitter = RecursiveCharacterTextSplitter(\n",
    "    chunk_size=1500,\n",
    "    chunk_overlap=300,\n",
    ")\n",
    "\n",
    "splits = splitter.split_documents(pdf_docs)\n",
    "\n",
    "persist_directory = 'docs/chroma/'"
   ]
  },
  {
   "cell_type": "code",
   "execution_count": 12,
   "metadata": {
    "executionInfo": {
     "elapsed": 14810,
     "status": "ok",
     "timestamp": 1740143479640,
     "user": {
      "displayName": "Witchapong Daroontham",
      "userId": "15288324432596741279"
     },
     "user_tz": -420
    },
    "id": "29WBLpS-dHR2"
   },
   "outputs": [],
   "source": [
    "# If this is the first run, we have to create a vector store\n",
    "# and store embeddings. Otherwise, we can load the persisted\n",
    "# vector store to save time.\n",
    "\n",
    "vectordb = Chroma.from_documents(\n",
    "    splits,\n",
    "    embedding=OpenAIEmbeddings(),\n",
    "    persist_directory=persist_directory\n",
    ")"
   ]
  },
  {
   "cell_type": "code",
   "execution_count": 13,
   "metadata": {
    "executionInfo": {
     "elapsed": 1,
     "status": "ok",
     "timestamp": 1740143479644,
     "user": {
      "displayName": "Witchapong Daroontham",
      "userId": "15288324432596741279"
     },
     "user_tz": -420
    },
    "id": "PLxhDDixdIxk"
   },
   "outputs": [],
   "source": [
    "# # This cell is for loading the persisted vector store that\n",
    "# # has already been created in the previous run.\n",
    "\n",
    "# vectordb = Chroma(\n",
    "#     persist_directory=persist_directory,\n",
    "#     embedding_function=OpenAIEmbeddings()\n",
    "# )"
   ]
  },
  {
   "cell_type": "code",
   "execution_count": 14,
   "metadata": {
    "colab": {
     "base_uri": "https://localhost:8080/"
    },
    "executionInfo": {
     "elapsed": 6,
     "status": "ok",
     "timestamp": 1740143479651,
     "user": {
      "displayName": "Witchapong Daroontham",
      "userId": "15288324432596741279"
     },
     "user_tz": -420
    },
    "id": "f4JZZ2XUdEM9",
    "outputId": "6c7c0dc6-995a-4194-8808-dc363018f48b"
   },
   "outputs": [
    {
     "name": "stdout",
     "output_type": "stream",
     "text": [
      "1181\n"
     ]
    }
   ],
   "source": [
    "print(vectordb._collection.count())"
   ]
  },
  {
   "cell_type": "markdown",
   "metadata": {
    "id": "FZB6xvI4dju4"
   },
   "source": [
    "# 4. Retrieve relevant documents from VectorDB"
   ]
  },
  {
   "cell_type": "code",
   "execution_count": 15,
   "metadata": {
    "executionInfo": {
     "elapsed": 4,
     "status": "ok",
     "timestamp": 1740143522041,
     "user": {
      "displayName": "Witchapong Daroontham",
      "userId": "15288324432596741279"
     },
     "user_tz": -420
    },
    "id": "VpnawCeFdlSa"
   },
   "outputs": [],
   "source": [
    "query = \"How is Bernoulli trial and Poisson distribution related?\""
   ]
  },
  {
   "cell_type": "markdown",
   "metadata": {
    "id": "kkIyuHbwdoav"
   },
   "source": [
    "## 4.1 Similarity search"
   ]
  },
  {
   "cell_type": "code",
   "execution_count": 16,
   "metadata": {
    "executionInfo": {
     "elapsed": 3309,
     "status": "ok",
     "timestamp": 1740143529120,
     "user": {
      "displayName": "Witchapong Daroontham",
      "userId": "15288324432596741279"
     },
     "user_tz": -420
    },
    "id": "TemxP0mPdnIZ"
   },
   "outputs": [],
   "source": [
    "docs_ss = vectordb.similarity_search_with_score(query, k=2)"
   ]
  },
  {
   "cell_type": "code",
   "execution_count": 17,
   "metadata": {
    "colab": {
     "base_uri": "https://localhost:8080/"
    },
    "executionInfo": {
     "elapsed": 7,
     "status": "ok",
     "timestamp": 1740143529129,
     "user": {
      "displayName": "Witchapong Daroontham",
      "userId": "15288324432596741279"
     },
     "user_tz": -420
    },
    "id": "crR0uAyqdqhj",
    "outputId": "1e4a4639-fcf3-4b27-b9b9-f80f0850b330"
   },
   "outputs": [
    {
     "data": {
      "text/plain": [
       "[(Document(metadata={'author': '', 'creationDate': 'D:20040816152018Z', 'creationdate': '2004-08-16T15:20:18+00:00', 'creator': 'dvips(k) 5.90a Copyright 2002 Radical Eye Software', 'file_path': '/content/drive/MyDrive/build-ai-based-applications/probability_textbook_ee.pdf', 'format': 'PDF 1.3', 'keywords': '', 'modDate': \"D:20061216135039-08'00'\", 'moddate': '2006-12-16T13:50:39-08:00', 'page': 86, 'producer': 'Acrobat Distiller 5.0.5 (Windows)', 'source': '/content/drive/MyDrive/build-ai-based-applications/probability_textbook_ee.pdf', 'subject': '', 'title': 'probww.dvi', 'total_pages': 537, 'trapped': ''}, page_content='PMF. In the binomial model, n, the number of Bernoulli trials grows without limit but the\\nexpected number of trials np remains constant at α, the expected value of the Poisson PMF.\\nIn the theorem, we let α = λT and divide the T-second interval into n time slots each\\nwith duration T/n. In each slot, we assume that there is either one arrival, with probability\\np = λT/n = α/n, or there is no arrival in the time slot, with probability 1 −p.\\nTheorem 2.8\\nPerform n Bernoulli trials. In each trial, let the probability of success be α/n, where α > 0\\nis a constant and n > α. Let the random variable K n be the number of successes in the n\\ntrials. As n →∞, PKn(k) converges to the PMF of a Poisson (α) random variable.\\nProof We ﬁrst note that Kn is the binomial (n, αn) random variable with PMF\\nPKn (k) =\\n\\tn\\nk'),\n",
       "  0.35711076855659485),\n",
       " (Document(metadata={'author': '', 'creationDate': 'D:20040816152018Z', 'creationdate': '2004-08-16T15:20:18+00:00', 'creator': 'dvips(k) 5.90a Copyright 2002 Radical Eye Software', 'file_path': '/content/drive/MyDrive/build-ai-based-applications/probability_textbook_ee.pdf', 'format': 'PDF 1.3', 'keywords': '', 'modDate': \"D:20061216135039-08'00'\", 'moddate': '2006-12-16T13:50:39-08:00', 'page': 84, 'producer': 'Acrobat Distiller 5.0.5 (Windows)', 'source': '/content/drive/MyDrive/build-ai-based-applications/probability_textbook_ee.pdf', 'subject': '', 'title': 'probww.dvi', 'total_pages': 537, 'trapped': ''}, page_content='times, we can interpret the probability of A as\\nP [A] = lim\\nn→∞\\nNA\\nn\\n(2.49)\\nThis is the relative frequency of A. In the notation of random variables, we have the\\ncorresponding observation that\\nPX (x) = lim\\nn→∞\\nNx\\nn .\\n(2.50)\\nThis suggests that\\nlim\\nn→∞mn =\\n\\x06\\nx∈SX\\nx PX (x) = E [X] .\\n(2.51)\\nEquation (2.51) says that the deﬁnition of E[X] corresponds to a model of doing the\\nsame experiment repeatedly. After each trial, add up all the observations to date and divide\\nby the number of trials. We prove in Chapter 7 that the result approaches the expected value\\nas the number of trials increases without limit. We can use Deﬁnition 2.14 to derive the\\nexpected value of each family of random variables deﬁned in Section 2.3.\\nTheorem 2.4\\nThe Bernoulli (p) random variable X has expected value E[X] = p.\\nProof E[X] = 0 · PX(0) + 1PX (1) = 0(1 −p) + 1(p) = p.'),\n",
       "  0.3709092140197754)]"
      ]
     },
     "execution_count": 17,
     "metadata": {},
     "output_type": "execute_result"
    }
   ],
   "source": [
    "docs_ss"
   ]
  },
  {
   "cell_type": "markdown",
   "metadata": {
    "id": "5UajaptKduUi"
   },
   "source": [
    "## 4.2 Maximum marginal relevance search"
   ]
  },
  {
   "cell_type": "code",
   "execution_count": 18,
   "metadata": {
    "executionInfo": {
     "elapsed": 489,
     "status": "ok",
     "timestamp": 1740143530736,
     "user": {
      "displayName": "Witchapong Daroontham",
      "userId": "15288324432596741279"
     },
     "user_tz": -420
    },
    "id": "57v57aG8dum8"
   },
   "outputs": [],
   "source": [
    "docs_mmr = vectordb.max_marginal_relevance_search(query, k=2, fetch_k=5)"
   ]
  },
  {
   "cell_type": "code",
   "execution_count": 19,
   "metadata": {
    "colab": {
     "base_uri": "https://localhost:8080/"
    },
    "executionInfo": {
     "elapsed": 7,
     "status": "ok",
     "timestamp": 1740143530745,
     "user": {
      "displayName": "Witchapong Daroontham",
      "userId": "15288324432596741279"
     },
     "user_tz": -420
    },
    "id": "M90dDTJ7dwN4",
    "outputId": "37524556-5800-4a6a-bc0a-8217b1378e38"
   },
   "outputs": [
    {
     "data": {
      "text/plain": [
       "[Document(metadata={'author': '', 'creationDate': 'D:20040816152018Z', 'creationdate': '2004-08-16T15:20:18+00:00', 'creator': 'dvips(k) 5.90a Copyright 2002 Radical Eye Software', 'file_path': '/content/drive/MyDrive/build-ai-based-applications/probability_textbook_ee.pdf', 'format': 'PDF 1.3', 'keywords': '', 'modDate': \"D:20061216135039-08'00'\", 'moddate': '2006-12-16T13:50:39-08:00', 'page': 86, 'producer': 'Acrobat Distiller 5.0.5 (Windows)', 'source': '/content/drive/MyDrive/build-ai-based-applications/probability_textbook_ee.pdf', 'subject': '', 'title': 'probww.dvi', 'total_pages': 537, 'trapped': ''}, page_content='PMF. In the binomial model, n, the number of Bernoulli trials grows without limit but the\\nexpected number of trials np remains constant at α, the expected value of the Poisson PMF.\\nIn the theorem, we let α = λT and divide the T-second interval into n time slots each\\nwith duration T/n. In each slot, we assume that there is either one arrival, with probability\\np = λT/n = α/n, or there is no arrival in the time slot, with probability 1 −p.\\nTheorem 2.8\\nPerform n Bernoulli trials. In each trial, let the probability of success be α/n, where α > 0\\nis a constant and n > α. Let the random variable K n be the number of successes in the n\\ntrials. As n →∞, PKn(k) converges to the PMF of a Poisson (α) random variable.\\nProof We ﬁrst note that Kn is the binomial (n, αn) random variable with PMF\\nPKn (k) =\\n\\tn\\nk'),\n",
       " Document(metadata={'author': '', 'creationDate': 'D:20040816152018Z', 'creationdate': '2004-08-16T15:20:18+00:00', 'creator': 'dvips(k) 5.90a Copyright 2002 Radical Eye Software', 'file_path': '/content/drive/MyDrive/build-ai-based-applications/probability_textbook_ee.pdf', 'format': 'PDF 1.3', 'keywords': '', 'modDate': \"D:20061216135039-08'00'\", 'moddate': '2006-12-16T13:50:39-08:00', 'page': 0, 'producer': 'Acrobat Distiller 5.0.5 (Windows)', 'source': '/content/drive/MyDrive/build-ai-based-applications/probability_textbook_ee.pdf', 'subject': '', 'title': 'probww.dvi', 'total_pages': 537, 'trapped': ''}, page_content='Probability and\\nStochastic Processes')]"
      ]
     },
     "execution_count": 19,
     "metadata": {},
     "output_type": "execute_result"
    }
   ],
   "source": [
    "docs_mmr"
   ]
  },
  {
   "cell_type": "markdown",
   "metadata": {
    "id": "dJA3tRzPd4up"
   },
   "source": [
    "# 5. Combine retrieved documents with LLM prompt"
   ]
  },
  {
   "cell_type": "code",
   "execution_count": 20,
   "metadata": {
    "executionInfo": {
     "elapsed": 522,
     "status": "ok",
     "timestamp": 1740143536677,
     "user": {
      "displayName": "Witchapong Daroontham",
      "userId": "15288324432596741279"
     },
     "user_tz": -420
    },
    "id": "aEfG7Zx6d5GS"
   },
   "outputs": [],
   "source": [
    "# from langchain_core.output_parsers import StrOutputParser\n",
    "from langchain_openai import ChatOpenAI\n",
    "from langchain.chains import create_retrieval_chain\n",
    "from langchain.chains.combine_documents import create_stuff_documents_chain\n",
    "from langchain_core.runnables import RunnableLambda, RunnablePassthrough, RunnableParallel\n",
    "\n",
    "llm = ChatOpenAI(model=\"gpt-3.5-turbo-0125\", temperature=0)\n",
    "\n",
    "retriever = vectordb.as_retriever(search_type='mmr', search_kwargs={'k': 4})"
   ]
  },
  {
   "cell_type": "code",
   "execution_count": 21,
   "metadata": {
    "colab": {
     "base_uri": "https://localhost:8080/"
    },
    "executionInfo": {
     "elapsed": 8,
     "status": "ok",
     "timestamp": 1740143536684,
     "user": {
      "displayName": "Witchapong Daroontham",
      "userId": "15288324432596741279"
     },
     "user_tz": -420
    },
    "id": "DgJheVtPd_gw",
    "outputId": "03bcf2fd-3953-4816-9258-1e140398ecbb"
   },
   "outputs": [
    {
     "data": {
      "text/plain": [
       "ChatPromptTemplate(input_variables=['context', 'input'], input_types={}, partial_variables={}, messages=[SystemMessagePromptTemplate(prompt=PromptTemplate(input_variables=['context'], input_types={}, partial_variables={}, template=\"You are an assistant for answering question about probability and random process for Electrical Engineering students.\\nUse the following pieces of retrieved context to answer the question.\\nIf you don't know the answer, say that you don't know.\\nUse three sentences maximum, keep the answer concise, and use Mathematic equation for explanation if needed.\\n\\n{context}\\n\"), additional_kwargs={}), HumanMessagePromptTemplate(prompt=PromptTemplate(input_variables=['input'], input_types={}, partial_variables={}, template='{input}'), additional_kwargs={})])"
      ]
     },
     "execution_count": 21,
     "metadata": {},
     "output_type": "execute_result"
    }
   ],
   "source": [
    "from langchain_core.prompts import ChatPromptTemplate\n",
    "\n",
    "system_prompt = \"\"\"You are an assistant for answering question about probability and random process for Electrical Engineering students.\n",
    "Use the following pieces of retrieved context to answer the question.\n",
    "If you don't know the answer, say that you don't know.\n",
    "Use three sentences maximum, keep the answer concise, and use Mathematic equation for explanation if needed.\n",
    "\n",
    "{context}\n",
    "\"\"\"\n",
    "\n",
    "prompt = ChatPromptTemplate.from_messages(\n",
    "    [\n",
    "        (\"system\", system_prompt),\n",
    "        (\"human\", \"{input}\"),\n",
    "    ]\n",
    ")\n",
    "\n",
    "prompt"
   ]
  },
  {
   "cell_type": "code",
   "execution_count": 22,
   "metadata": {
    "colab": {
     "base_uri": "https://localhost:8080/"
    },
    "executionInfo": {
     "elapsed": 50,
     "status": "ok",
     "timestamp": 1740143557625,
     "user": {
      "displayName": "Witchapong Daroontham",
      "userId": "15288324432596741279"
     },
     "user_tz": -420
    },
    "id": "IQY0OwY4eT3W",
    "outputId": "ef07e9f9-058c-472c-a25d-c53fa4d5674d"
   },
   "outputs": [
    {
     "data": {
      "text/plain": [
       "RunnableBinding(bound=RunnableBinding(bound=RunnableAssign(mapper={\n",
       "  context: RunnableLambda(format_docs)\n",
       "}), kwargs={}, config={'run_name': 'format_inputs'}, config_factories=[])\n",
       "| ChatPromptTemplate(input_variables=['context', 'input'], input_types={}, partial_variables={}, messages=[SystemMessagePromptTemplate(prompt=PromptTemplate(input_variables=['context'], input_types={}, partial_variables={}, template=\"You are an assistant for answering question about probability and random process for Electrical Engineering students.\\nUse the following pieces of retrieved context to answer the question.\\nIf you don't know the answer, say that you don't know.\\nUse three sentences maximum, keep the answer concise, and use Mathematic equation for explanation if needed.\\n\\n{context}\\n\"), additional_kwargs={}), HumanMessagePromptTemplate(prompt=PromptTemplate(input_variables=['input'], input_types={}, partial_variables={}, template='{input}'), additional_kwargs={})])\n",
       "| ChatOpenAI(client=<openai.resources.chat.completions.Completions object at 0x79e2014dc8d0>, async_client=<openai.resources.chat.completions.AsyncCompletions object at 0x79e2014dd210>, root_client=<openai.OpenAI object at 0x79e202ffc350>, root_async_client=<openai.AsyncOpenAI object at 0x79e2014c3d90>, model_name='gpt-3.5-turbo-0125', temperature=0.0, model_kwargs={}, openai_api_key=SecretStr('**********'))\n",
       "| StrOutputParser(), kwargs={}, config={'run_name': 'stuff_documents_chain'}, config_factories=[])"
      ]
     },
     "execution_count": 22,
     "metadata": {},
     "output_type": "execute_result"
    }
   ],
   "source": [
    "# Langchain also has a built-in function to combine prompt and llm into a chain\n",
    "# This function has the same effect as prompt | llm we did above\n",
    "\n",
    "question_answer_chain = create_stuff_documents_chain(llm, prompt) # prompt | llm\n",
    "question_answer_chain"
   ]
  },
  {
   "cell_type": "code",
   "execution_count": 24,
   "metadata": {
    "executionInfo": {
     "elapsed": 2,
     "status": "ok",
     "timestamp": 1740143567327,
     "user": {
      "displayName": "Witchapong Daroontham",
      "userId": "15288324432596741279"
     },
     "user_tz": -420
    },
    "id": "H7WNWuhZeW_K"
   },
   "outputs": [],
   "source": [
    "# To simplify this process, Langchain has another built-in function to combine\n",
    "# the retriever into question_answer_chain\n",
    "\n",
    "rag_chain = create_retrieval_chain(retriever, question_answer_chain)"
   ]
  },
  {
   "cell_type": "code",
   "execution_count": 25,
   "metadata": {
    "colab": {
     "base_uri": "https://localhost:8080/"
    },
    "executionInfo": {
     "elapsed": 6,
     "status": "ok",
     "timestamp": 1740143575600,
     "user": {
      "displayName": "Witchapong Daroontham",
      "userId": "15288324432596741279"
     },
     "user_tz": -420
    },
    "id": "ciN9FlejeYnG",
    "outputId": "ed7c4695-50e7-46b2-f21d-151d16dac00f"
   },
   "outputs": [
    {
     "data": {
      "text/plain": [
       "RunnableBinding(bound=RunnableAssign(mapper={\n",
       "  context: RunnableBinding(bound=RunnableLambda(lambda x: x['input'])\n",
       "           | VectorStoreRetriever(tags=['Chroma', 'OpenAIEmbeddings'], vectorstore=<langchain_community.vectorstores.chroma.Chroma object at 0x79e2061474d0>, search_type='mmr', search_kwargs={'k': 4}), kwargs={}, config={'run_name': 'retrieve_documents'}, config_factories=[])\n",
       "})\n",
       "| RunnableAssign(mapper={\n",
       "    answer: RunnableBinding(bound=RunnableBinding(bound=RunnableAssign(mapper={\n",
       "              context: RunnableLambda(format_docs)\n",
       "            }), kwargs={}, config={'run_name': 'format_inputs'}, config_factories=[])\n",
       "            | ChatPromptTemplate(input_variables=['context', 'input'], input_types={}, partial_variables={}, messages=[SystemMessagePromptTemplate(prompt=PromptTemplate(input_variables=['context'], input_types={}, partial_variables={}, template=\"You are an assistant for answering question about probability and random process for Electrical Engineering students.\\nUse the following pieces of retrieved context to answer the question.\\nIf you don't know the answer, say that you don't know.\\nUse three sentences maximum, keep the answer concise, and use Mathematic equation for explanation if needed.\\n\\n{context}\\n\"), additional_kwargs={}), HumanMessagePromptTemplate(prompt=PromptTemplate(input_variables=['input'], input_types={}, partial_variables={}, template='{input}'), additional_kwargs={})])\n",
       "            | ChatOpenAI(client=<openai.resources.chat.completions.Completions object at 0x79e2014dc8d0>, async_client=<openai.resources.chat.completions.AsyncCompletions object at 0x79e2014dd210>, root_client=<openai.OpenAI object at 0x79e202ffc350>, root_async_client=<openai.AsyncOpenAI object at 0x79e2014c3d90>, model_name='gpt-3.5-turbo-0125', temperature=0.0, model_kwargs={}, openai_api_key=SecretStr('**********'))\n",
       "            | StrOutputParser(), kwargs={}, config={'run_name': 'stuff_documents_chain'}, config_factories=[])\n",
       "  }), kwargs={}, config={'run_name': 'retrieval_chain'}, config_factories=[])"
      ]
     },
     "execution_count": 25,
     "metadata": {},
     "output_type": "execute_result"
    }
   ],
   "source": [
    "rag_chain"
   ]
  },
  {
   "cell_type": "code",
   "execution_count": 26,
   "metadata": {
    "colab": {
     "base_uri": "https://localhost:8080/"
    },
    "executionInfo": {
     "elapsed": 1583,
     "status": "ok",
     "timestamp": 1740143577375,
     "user": {
      "displayName": "Witchapong Daroontham",
      "userId": "15288324432596741279"
     },
     "user_tz": -420
    },
    "id": "Rz9qy-bdeapD",
    "outputId": "e5941dc2-f136-4e60-cc51-4453d63fd0de"
   },
   "outputs": [
    {
     "data": {
      "text/plain": [
       "{'input': 'What are expectation and variance of Poisson distribution?',\n",
       " 'context': [Document(metadata={'author': '', 'creationDate': 'D:20040816152018Z', 'creationdate': '2004-08-16T15:20:18+00:00', 'creator': 'dvips(k) 5.90a Copyright 2002 Radical Eye Software', 'file_path': '/content/drive/MyDrive/build-ai-based-applications/probability_textbook_ee.pdf', 'format': 'PDF 1.3', 'keywords': '', 'modDate': \"D:20061216135039-08'00'\", 'moddate': '2006-12-16T13:50:39-08:00', 'page': 257, 'producer': 'Acrobat Distiller 5.0.5 (Windows)', 'source': '/content/drive/MyDrive/build-ai-based-applications/probability_textbook_ee.pdf', 'subject': '', 'title': 'probww.dvi', 'total_pages': 537, 'trapped': ''}, page_content='ﬁnish the race in less than 25 minutes?\\n(b) What is the probability that the last boat will\\ncross the ﬁnish line in more than 50 minutes?\\n(c) Given this model, what is the probability that a\\nboat will ﬁnish before it starts (negative ﬁnishing\\ntime)?\\n5.5.5\\n♦♦\\nIn a weekly lottery, each $1 ticket sold adds 50 cents\\nto the jackpot that starts at $1 million before any\\ntickets are sold.\\nThe jackpot is announced each\\nmorning to encourage people to play. On the morn-\\ning of the ith day before the drawing, the current\\nvalue of the jackpot Ji is announced. On that day,\\nthe number of tickets sold, Ni , is a Poisson random\\nvariable with expected value Ji. Thus six days be-\\nfore the drawing, the morning jackpot starts at $1\\nmillion and N6 tickets are sold that day. On the day\\nof the drawing, the announced jackpot is J0 dollars\\nand N0 tickets are sold before the evening drawing.\\nWhat are the expected value and variance of J, the\\nvalue of the jackpot the instant before the drawing?\\nHint: Use conditional expectations.\\n5.5.6\\n♦♦\\nLet X1, . . . , Xn denote n iid random variables with\\nPDF fX(x) and CDF FX(x). What is the probabil-\\nity P[Xn = max{X1, . . . , Xn}]?\\n5.6.1\\n•\\nRandom variables X1 and X2 have zero expected\\nvalue and variances Var[X1] = 4 and Var[X2] = 9.\\nTheir covariance is Cov[X1, X2] = 3.\\n(a) Find the covariance matrix of X =\\n\\x07\\nX1\\nX2\\n\\x08′.\\n(b) X1 and X2 are transformed to new variables Y1\\nand Y2 according to\\nY1 = X1 −2X2\\nY2 = 3X1 + 4X2\\nFind the covariance matrix of Y =\\n\\x07\\nY1\\nY2\\n\\x08′.'),\n",
       "  Document(metadata={'author': '', 'creationDate': 'D:20040816152018Z', 'creationdate': '2004-08-16T15:20:18+00:00', 'creator': 'dvips(k) 5.90a Copyright 2002 Radical Eye Software', 'file_path': '/content/drive/MyDrive/build-ai-based-applications/probability_textbook_ee.pdf', 'format': 'PDF 1.3', 'keywords': '', 'modDate': \"D:20061216135039-08'00'\", 'moddate': '2006-12-16T13:50:39-08:00', 'page': 0, 'producer': 'Acrobat Distiller 5.0.5 (Windows)', 'source': '/content/drive/MyDrive/build-ai-based-applications/probability_textbook_ee.pdf', 'subject': '', 'title': 'probww.dvi', 'total_pages': 537, 'trapped': ''}, page_content='Probability and\\nStochastic Processes'),\n",
       "  Document(metadata={'author': '', 'creationDate': 'D:20040816152018Z', 'creationdate': '2004-08-16T15:20:18+00:00', 'creator': 'dvips(k) 5.90a Copyright 2002 Radical Eye Software', 'file_path': '/content/drive/MyDrive/build-ai-based-applications/probability_textbook_ee.pdf', 'format': 'PDF 1.3', 'keywords': '', 'modDate': \"D:20061216135039-08'00'\", 'moddate': '2006-12-16T13:50:39-08:00', 'page': 94, 'producer': 'Acrobat Distiller 5.0.5 (Windows)', 'source': '/content/drive/MyDrive/build-ai-based-applications/probability_textbook_ee.pdf', 'subject': '', 'title': 'probww.dvi', 'total_pages': 537, 'trapped': ''}, page_content='2.8\\nVARIANCE AND STANDARD DEVIATION\\n77\\n2.8\\nVariance and Standard Deviation\\nIn Section 2.5, we describe an average as a typical value of a random variable. It is one\\nnumber that summarizes an entire probability model. After ﬁnding an average, someone\\nwhowantstolookfurtherintotheprobabilitymodelmightask, “Howtypicalistheaverage?”\\nor, “What are the chances of observing an event far from the average?” In the example of\\nthe midterm exam, after you ﬁnd out your score is 7 points above average, you are likely\\nto ask, “How good is that? Is it near the top of the class or somewhere near the middle?”\\nA measure of dispersion is an answer to these questions wrapped up in a single number.\\nIf this measure is small, observations are likely to be near the average. A high measure of\\ndispersion suggests that it is not unusual to observe events that are far from the average.\\nThe most important measures of dispersion are the standard deviation and its close\\nrelative, the variance. The variance of random variable X describes the difference between\\nX and its expected value. This difference is the derived random variable, Y = X −µ X.\\nTheorem 2.11 states that µY = 0, regardless of the probability model of X. Therefore µ Y\\nprovides no information about the dispersion of X around µ X. A useful measure of the\\nlikely difference between X and its expected value is the expected absolute value of the\\ndifference, E[|Y|]. However, this parameter is not easy to work with mathematically in'),\n",
       "  Document(metadata={'author': '', 'creationDate': 'D:20040816152018Z', 'creationdate': '2004-08-16T15:20:18+00:00', 'creator': 'dvips(k) 5.90a Copyright 2002 Radical Eye Software', 'file_path': '/content/drive/MyDrive/build-ai-based-applications/probability_textbook_ee.pdf', 'format': 'PDF 1.3', 'keywords': '', 'modDate': \"D:20061216135039-08'00'\", 'moddate': '2006-12-16T13:50:39-08:00', 'page': 280, 'producer': 'Acrobat Distiller 5.0.5 (Windows)', 'source': '/content/drive/MyDrive/build-ai-based-applications/probability_textbook_ee.pdf', 'subject': '', 'title': 'probww.dvi', 'total_pages': 537, 'trapped': ''}, page_content='6.7\\nAPPLICATIONS OF THE CENTRAL LIMIT THEOREM\\n263\\nprobability λ/n) approaches a Poisson random variable in the limit as n →∞. Thus a\\nGaussian approximation can be accurate for a random variable K that is binomial, Pascal,\\nor Poisson.\\nIn general, suppose K is a discrete random variable and that the range of K is S K ⊂\\n{nτ|n = 0, ±1, ±2 . . .}. For example, when K is binomial, Poisson, or Pascal, τ = 1 and\\nSK = {0, 1, 2 . . .}. We wish to estimate the probability of the event A = {k 1 ≤K ≤k2},\\nwhere k1 and k2 are integers. A Gaussian approximation to P[A] is often poor when k 1 and\\nk2 are close to one another. In this case, we can improve our approximation by accounting\\nfor the discrete nature of K. Consider the Gaussian random variable, X with expected value\\nE[K] and variance Var[K]. An accurate approximation to the probability of the event A is\\nP [A] ≈P [k1 −τ/2 ≤X ≤k2 + τ/2]\\n(6.85)\\n= \\x0b\\n\\tk2 + τ/2 −E [K]\\n√\\nVar[K]\\n\\n−\\x0b\\n\\tk1 −τ/2 −E [K]\\n√\\nVar[K]\\n\\n.\\n(6.86)\\nWhen K is a binomial random variable for n trials and success probability p, E[K] = np,\\nand Var[K] = np(1 −p). The formula that corresponds to this statement is known as the\\nDe Moivre–Laplace formula. It corresponds to the formula for P[A] with τ = 1.\\nDeﬁnition 6.3\\nDe Moivre–Laplace Formula\\nFor a binomial (n, p) random variable K,\\nP [k1 ≤K ≤k2] ≈\\x0b\\n\\tk2 + 0.5 −np\\n√\\nnp(1 −p)\\n\\n−\\x0b\\n\\tk1 −0.5 −np\\n√\\nnp(1 −p)')],\n",
       " 'answer': 'The expectation (expected value) of a Poisson distribution with parameter λ is E[X] = λ. The variance of a Poisson distribution with parameter λ is Var[X] = λ.'}"
      ]
     },
     "execution_count": 26,
     "metadata": {},
     "output_type": "execute_result"
    }
   ],
   "source": [
    "# Now we can simply invoke rag_chain with the query directly\n",
    "\n",
    "rag_chain.invoke({'input': 'What are expectation and variance of Poisson distribution?'})"
   ]
  },
  {
   "cell_type": "markdown",
   "metadata": {
    "id": "L3dF6J_Meel9"
   },
   "source": [
    "## 6. Add memory for storing previous messages\n",
    "\n",
    "![RAG memory](https://python.langchain.com/v0.1/assets/images/conversational_retrieval_chain-5c7a96abe29e582bc575a0a0d63f86b0.png)"
   ]
  },
  {
   "cell_type": "code",
   "execution_count": 27,
   "metadata": {
    "executionInfo": {
     "elapsed": 13,
     "status": "ok",
     "timestamp": 1740143645329,
     "user": {
      "displayName": "Witchapong Daroontham",
      "userId": "15288324432596741279"
     },
     "user_tz": -420
    },
    "id": "rcQOrCQJeh_c"
   },
   "outputs": [],
   "source": [
    "from langchain.chains import create_history_aware_retriever\n",
    "from langchain_core.prompts import MessagesPlaceholder\n",
    "\n",
    "contextualize_q_system_prompt = (\n",
    "    \"Given a chat history and the latest user question \"\n",
    "    \"which might reference context in the chat history, \"\n",
    "    \"formulate a standalone question which can be understood \"\n",
    "    \"without the chat history. Do NOT answer the question, \"\n",
    "    \"just reformulate it if needed and otherwise return it as is.\"\n",
    ")\n",
    "\n",
    "contextualize_q_prompt = ChatPromptTemplate.from_messages(\n",
    "    [\n",
    "        (\"system\", contextualize_q_system_prompt),\n",
    "        MessagesPlaceholder(\"chat_history\"),\n",
    "        (\"human\", \"{input}\"),\n",
    "    ]\n",
    ")\n",
    "\n",
    "# Create a history_aware_retriever that formulate user query\n",
    "# into a standalone query (by using LLM) and retrieve relevant\n",
    "# documents with standard retriever\n",
    "history_aware_retriever = create_history_aware_retriever(\n",
    "    llm, retriever, contextualize_q_prompt\n",
    ")"
   ]
  },
  {
   "cell_type": "code",
   "execution_count": 28,
   "metadata": {
    "executionInfo": {
     "elapsed": 6,
     "status": "ok",
     "timestamp": 1740143647065,
     "user": {
      "displayName": "Witchapong Daroontham",
      "userId": "15288324432596741279"
     },
     "user_tz": -420
    },
    "id": "j17k_AlbelYi"
   },
   "outputs": [],
   "source": [
    "qa_prompt = ChatPromptTemplate.from_messages(\n",
    "    [\n",
    "        (\"system\", system_prompt),\n",
    "        MessagesPlaceholder(\"chat_history\"),\n",
    "        (\"human\", \"{input}\"),\n",
    "    ]\n",
    ")\n",
    "\n",
    "# Create a standard QA chain using system_prompt defined above\n",
    "question_answer_chain = create_stuff_documents_chain(llm, qa_prompt)\n",
    "\n",
    "# Combine history_aware_retriever with QA chain\n",
    "rag_chain = create_retrieval_chain(history_aware_retriever, question_answer_chain)"
   ]
  },
  {
   "cell_type": "code",
   "execution_count": 29,
   "metadata": {
    "executionInfo": {
     "elapsed": 4,
     "status": "ok",
     "timestamp": 1740143648877,
     "user": {
      "displayName": "Witchapong Daroontham",
      "userId": "15288324432596741279"
     },
     "user_tz": -420
    },
    "id": "Bu0mqvidemwB"
   },
   "outputs": [],
   "source": [
    "from langchain_community.chat_message_histories import ChatMessageHistory\n",
    "from langchain_core.chat_history import BaseChatMessageHistory\n",
    "from langchain_core.runnables.history import RunnableWithMessageHistory\n",
    "\n",
    "\n",
    "# To store chat history, create a dictionary where keys are session_id\n",
    "# and values are chat history\n",
    "store = {}\n",
    "\n",
    "def get_session_history(session_id: str) -> BaseChatMessageHistory:\n",
    "    if session_id not in store:\n",
    "        store[session_id] = ChatMessageHistory()\n",
    "    return store[session_id]\n",
    "\n",
    "# Combine rag_chain with chat history\n",
    "conversational_rag_chain = RunnableWithMessageHistory(\n",
    "    rag_chain,\n",
    "    get_session_history,\n",
    "    input_messages_key=\"input\",\n",
    "    history_messages_key=\"chat_history\",\n",
    "    output_messages_key=\"answer\",\n",
    ")"
   ]
  },
  {
   "cell_type": "code",
   "execution_count": 30,
   "metadata": {
    "executionInfo": {
     "elapsed": 5,
     "status": "ok",
     "timestamp": 1740143650595,
     "user": {
      "displayName": "Witchapong Daroontham",
      "userId": "15288324432596741279"
     },
     "user_tz": -420
    },
    "id": "s39PIx4ieoG_"
   },
   "outputs": [],
   "source": [
    "session_id = '1'"
   ]
  },
  {
   "cell_type": "code",
   "execution_count": 31,
   "metadata": {
    "colab": {
     "base_uri": "https://localhost:8080/"
    },
    "executionInfo": {
     "elapsed": 1952,
     "status": "ok",
     "timestamp": 1740143652739,
     "user": {
      "displayName": "Witchapong Daroontham",
      "userId": "15288324432596741279"
     },
     "user_tz": -420
    },
    "id": "qkCkiQrFepRw",
    "outputId": "fc400355-316a-4990-9e6d-eada3a3429a1"
   },
   "outputs": [
    {
     "data": {
      "text/plain": [
       "{'input': 'What is Poisson process?',\n",
       " 'chat_history': [],\n",
       " 'context': [Document(metadata={'author': '', 'creationDate': 'D:20040816152018Z', 'creationdate': '2004-08-16T15:20:18+00:00', 'creator': 'dvips(k) 5.90a Copyright 2002 Radical Eye Software', 'file_path': '/content/drive/MyDrive/build-ai-based-applications/probability_textbook_ee.pdf', 'format': 'PDF 1.3', 'keywords': '', 'modDate': \"D:20061216135039-08'00'\", 'moddate': '2006-12-16T13:50:39-08:00', 'page': 379, 'producer': 'Acrobat Distiller 5.0.5 (Windows)', 'source': '/content/drive/MyDrive/build-ai-based-applications/probability_textbook_ee.pdf', 'subject': '', 'title': 'probww.dvi', 'total_pages': 537, 'trapped': ''}, page_content='\\x08′.\\n10.5\\nThe Poisson Process\\nA counting process N(t) starts at time 0 and counts the occurrences of events. These events\\nare generally called arrivals because counting processes are most often used to model the\\narrivals of customers at a service facility. However, since counting processes have many\\napplications, we will speak about arrivals without saying exactly what is arriving.\\nSince we start at time t = 0, n(t, s) = 0 for all t ≤0. Also, the number of arrivals up\\nto any t > 0 is an integer that cannot decrease with time.\\nDeﬁnition 10.8\\nCounting Process\\nA stochastic process N(t) is a counting process if for every sample function, n(t, s) = 0\\nfor t < 0 and n(t, s) is integer-valued and nondecreasing with time.\\nWe can think of N(t) as counting the number of customers that arrive at a system during\\nthe interval (0, t]. A typical sample path of N(t) is sketched in Figure 10.4. The jumps in\\nthe sample function of a counting process mark the arrivals, and the number of arrivals in\\nthe interval (t0, t1] is just N(t1) −N(t0).\\nWe can use a Bernoulli process X 1, X2, . . . to derive a simple counting process. In\\nparticular, consider a small time step of size \\x08 seconds such that there is one arrival in'),\n",
       "  Document(metadata={'author': '', 'creationDate': 'D:20040816152018Z', 'creationdate': '2004-08-16T15:20:18+00:00', 'creator': 'dvips(k) 5.90a Copyright 2002 Radical Eye Software', 'file_path': '/content/drive/MyDrive/build-ai-based-applications/probability_textbook_ee.pdf', 'format': 'PDF 1.3', 'keywords': '', 'modDate': \"D:20061216135039-08'00'\", 'moddate': '2006-12-16T13:50:39-08:00', 'page': 0, 'producer': 'Acrobat Distiller 5.0.5 (Windows)', 'source': '/content/drive/MyDrive/build-ai-based-applications/probability_textbook_ee.pdf', 'subject': '', 'title': 'probww.dvi', 'total_pages': 537, 'trapped': ''}, page_content='Probability and\\nStochastic Processes'),\n",
       "  Document(metadata={'author': '', 'creationDate': 'D:20040816152018Z', 'creationdate': '2004-08-16T15:20:18+00:00', 'creator': 'dvips(k) 5.90a Copyright 2002 Radical Eye Software', 'file_path': '/content/drive/MyDrive/build-ai-based-applications/probability_textbook_ee.pdf', 'format': 'PDF 1.3', 'keywords': '', 'modDate': \"D:20061216135039-08'00'\", 'moddate': '2006-12-16T13:50:39-08:00', 'page': 400, 'producer': 'Acrobat Distiller 5.0.5 (Windows)', 'source': '/content/drive/MyDrive/build-ai-based-applications/probability_textbook_ee.pdf', 'subject': '', 'title': 'probww.dvi', 'total_pages': 537, 'trapped': ''}, page_content='10.12\\nGAUSSIAN PROCESSES\\n383\\nphenomenon that is accurately modeled as a Gaussian stochastic process. In a Gaussian\\nprocess, every collection of sample values is a Gaussian random vector (Deﬁnition 5.17).\\nDeﬁnition 10.19 Gaussian Process\\nX(t) is a Gaussian stochastic process if and only if X = \\x07X(t1)\\n· · ·\\nX(tk)\\x08′ is a Gaus-\\nsian random vector for any integer k > 0 and any set of time instants t1, t2, . . . , tk.\\n. . . . . . . . . . . . . . . . . . . . . . . . . . . . . . . . . . . . . . . . . . . . . . . . . . . . . . . . . . . . . . . . . . . . . . . . . . . . . . . . .\\nXn is a Gaussian random sequence if and only if X = \\x07Xn1\\n· · ·\\nXnk\\n\\x08′ is a Gaussian\\nrandom vector for any integer k > 0 and any set of time instants n 1, n2, . . . , nk.\\nIn Problem 10.12.3, we ask the reader to show that the Brownian motion process in Sec-\\ntion 10.7 is a special case of a Gaussian process. Although the Brownian motion process\\nis not stationary (see Example 10.21), our primary interest will be in wide sense station-\\nary Gaussian processes. In this case, the probability model for the process is completely\\nspeciﬁed by the expected value µ X and the autocorrelation function R X(τ) or RX[k]. As a\\nconsequence, a wide sense stationary Gaussian process is stationary.\\nTheorem 10.15\\nIf X(t) is a wide sense stationary Gaussian process, then X(t) is a stationary Gaussian\\nprocess.'),\n",
       "  Document(metadata={'author': '', 'creationDate': 'D:20040816152018Z', 'creationdate': '2004-08-16T15:20:18+00:00', 'creator': 'dvips(k) 5.90a Copyright 2002 Radical Eye Software', 'file_path': '/content/drive/MyDrive/build-ai-based-applications/probability_textbook_ee.pdf', 'format': 'PDF 1.3', 'keywords': '', 'modDate': \"D:20061216135039-08'00'\", 'moddate': '2006-12-16T13:50:39-08:00', 'page': 408, 'producer': 'Acrobat Distiller 5.0.5 (Windows)', 'source': '/content/drive/MyDrive/build-ai-based-applications/probability_textbook_ee.pdf', 'subject': '', 'title': 'probww.dvi', 'total_pages': 537, 'trapped': ''}, page_content='PROBLEMS\\n391\\n(c) What is PN(2)(2), the probability of exactly two\\ncalls arriving in the ﬁrst two seconds?\\n10.5.2\\n•\\nQueriespresentedtoacomputerdatabase area Pois-\\nsonprocessofrateλ = 6queriesperminute. Anex-\\nperiment consists of monitoring the database for m\\nminutes and recording N(m), the number of queries\\npresented.\\nThe answer to each of the following\\nquestions can be expressed in terms of the PMF\\nPN(m)(k) = P[N(m) = k].\\n(a) What is the probability of no queries in a one\\nminute interval?\\n(b) What is the probability of exactly six queries ar-\\nriving in a one-minute interval?\\n(c) What is the probability of exactly three queries\\narriving in a one-half-minute interval?\\n10.5.3\\n•\\nAt a successful garage, there is always a backlog\\nof cars waiting to be serviced. The service times\\nof cars are iid exponential random variables with a\\nmean service time of 30 minutes. Find the PMF of\\nN(t), the number of cars serviced in the ﬁrst t hours\\nof the day.\\n10.5.4\\n•\\nThe count of students dropping the course “Prob-\\nability and Stochastic Processes” is known to be a\\nPoisson process of rate 0.1 drops per day. Starting\\nwith day 0, the ﬁrst day of the semester, let D(t) de-\\nnote the number of students that have dropped after\\nt days. What is PD(t)(d)?\\n10.5.5\\n•\\nCustomers arrive at the Veryfast Bank as a Poisson\\nprocess of rate λ customers per minute. Each arriv-\\ning customer is immediately served by a teller. Af-\\nter being served, each customer immediately leaves')],\n",
       " 'answer': 'A Poisson process is a counting process that models the occurrences of events over time, often used to represent arrivals of customers at a service facility. It is a stochastic process where the number of arrivals in a given time interval is integer-valued and nondecreasing with time. The probability of a certain number of arrivals in a Poisson process can be calculated using the Poisson distribution formula: P[N(t) = k] = (λt)^k * e^(-λt) / k!, where λ is the rate parameter and t is the time interval.'}"
      ]
     },
     "execution_count": 31,
     "metadata": {},
     "output_type": "execute_result"
    }
   ],
   "source": [
    "conversational_rag_chain.invoke(\n",
    "    {\"input\": \"What is Poisson process?\"},\n",
    "    config={\n",
    "        \"configurable\": {\"session_id\": session_id}\n",
    "    },\n",
    ")"
   ]
  },
  {
   "cell_type": "code",
   "execution_count": 32,
   "metadata": {
    "colab": {
     "base_uri": "https://localhost:8080/"
    },
    "executionInfo": {
     "elapsed": 2005,
     "status": "ok",
     "timestamp": 1740143654746,
     "user": {
      "displayName": "Witchapong Daroontham",
      "userId": "15288324432596741279"
     },
     "user_tz": -420
    },
    "id": "q3-F7k9ser3l",
    "outputId": "744b954a-af03-4c9e-f0a4-70d389646857"
   },
   "outputs": [
    {
     "data": {
      "text/plain": [
       "{'input': 'When should I use it?',\n",
       " 'chat_history': [HumanMessage(content='What is Poisson process?', additional_kwargs={}, response_metadata={}),\n",
       "  AIMessage(content='A Poisson process is a counting process that models the occurrences of events over time, often used to represent arrivals of customers at a service facility. It is a stochastic process where the number of arrivals in a given time interval is integer-valued and nondecreasing with time. The probability of a certain number of arrivals in a Poisson process can be calculated using the Poisson distribution formula: P[N(t) = k] = (λt)^k * e^(-λt) / k!, where λ is the rate parameter and t is the time interval.', additional_kwargs={}, response_metadata={})],\n",
       " 'context': [Document(metadata={'author': '', 'creationDate': 'D:20040816152018Z', 'creationdate': '2004-08-16T15:20:18+00:00', 'creator': 'dvips(k) 5.90a Copyright 2002 Radical Eye Software', 'file_path': '/content/drive/MyDrive/build-ai-based-applications/probability_textbook_ee.pdf', 'format': 'PDF 1.3', 'keywords': '', 'modDate': \"D:20061216135039-08'00'\", 'moddate': '2006-12-16T13:50:39-08:00', 'page': 380, 'producer': 'Acrobat Distiller 5.0.5 (Windows)', 'source': '/content/drive/MyDrive/build-ai-based-applications/probability_textbook_ee.pdf', 'subject': '', 'title': 'probww.dvi', 'total_pages': 537, 'trapped': ''}, page_content='10.5\\nTHE POISSON PROCESS\\n363\\nN(t)\\nt\\nX1\\nX2\\nX3\\nX4\\nX5\\n1\\n2\\n3\\n4\\n5\\nS1\\nS2\\nS3\\nS4\\nS5\\nFigure 10.4\\nSample path of a counting process.\\nthe interval (n\\x08, (n + 1)\\x08] if and only if X n = 1. For an average arrival rate λ > 0\\narrivals/second, we can choose \\x08 such that λ\\x08 ≪1. In this case, we let the success\\nprobability of X n be λ\\x08. This implies that the number of arrivals Nm before time T = m\\x08\\nhas the binomial PMF\\nPNm (n) =\\n\\tm\\nn'),\n",
       "  Document(metadata={'author': '', 'creationDate': 'D:20040816152018Z', 'creationdate': '2004-08-16T15:20:18+00:00', 'creator': 'dvips(k) 5.90a Copyright 2002 Radical Eye Software', 'file_path': '/content/drive/MyDrive/build-ai-based-applications/probability_textbook_ee.pdf', 'format': 'PDF 1.3', 'keywords': '', 'modDate': \"D:20061216135039-08'00'\", 'moddate': '2006-12-16T13:50:39-08:00', 'page': 0, 'producer': 'Acrobat Distiller 5.0.5 (Windows)', 'source': '/content/drive/MyDrive/build-ai-based-applications/probability_textbook_ee.pdf', 'subject': '', 'title': 'probww.dvi', 'total_pages': 537, 'trapped': ''}, page_content='Probability and\\nStochastic Processes'),\n",
       "  Document(metadata={'author': '', 'creationDate': 'D:20040816152018Z', 'creationdate': '2004-08-16T15:20:18+00:00', 'creator': 'dvips(k) 5.90a Copyright 2002 Radical Eye Software', 'file_path': '/content/drive/MyDrive/build-ai-based-applications/probability_textbook_ee.pdf', 'format': 'PDF 1.3', 'keywords': '', 'modDate': \"D:20061216135039-08'00'\", 'moddate': '2006-12-16T13:50:39-08:00', 'page': 290, 'producer': 'Acrobat Distiller 5.0.5 (Windows)', 'source': '/content/drive/MyDrive/build-ai-based-applications/probability_textbook_ee.pdf', 'subject': '', 'title': 'probww.dvi', 'total_pages': 537, 'trapped': ''}, page_content='calculate your estimate of the probability that the\\nbill is greater than $36.\\n6.7.1\\n•\\nLet K1, K2, . . . be an iid sequence of Pois-\\nson random variables, each with expected value\\nE[K] = 1. Let Wn = K1 + · · · + Kn. Use the\\nimproved central limit theorem approximation to\\nestimate P[Wn = n]. For n = 4, 25, 64, compare\\nthe approximation to the exact value of P[Wn = n].\\n6.7.2\\n•\\nIn any one-minute interval, the number of requests\\nfor a popular Web page is a Poisson random variable\\nwith expected value 300 requests.\\n(a) A Web server has a capacity of C requests per\\nminute.\\nIf the number of requests in a one-\\nminute interval is greater than C, the server is\\noverloaded.\\nUse the central limit theorem to\\nestimate the smallest value of C for which the\\nprobability of overload is less than 0.05.\\n(b) Use Matlab to calculate the actual probability\\nof overload for the value of C derived from the\\ncentral limit theorem.\\n(c) For the value of C derived from the central limit\\ntheorem, what is the probability of overload in a\\none-second interval?\\n(d) What is the smallest value of C for which the\\nprobability of overload in a one-second interval\\nis less than 0.05?\\n(e) Comment on the application of the central limit\\ntheorem to estimate overload probability in a\\none-second interval and overload probability in\\na one-minute interval.\\n6.7.3\\n•\\nIntegrated circuits from a certain factory pass a cer-\\ntain quality test with probability 0.8. The outcomes\\nof all tests are mutually independent.'),\n",
       "  Document(metadata={'author': '', 'creationDate': 'D:20040816152018Z', 'creationdate': '2004-08-16T15:20:18+00:00', 'creator': 'dvips(k) 5.90a Copyright 2002 Radical Eye Software', 'file_path': '/content/drive/MyDrive/build-ai-based-applications/probability_textbook_ee.pdf', 'format': 'PDF 1.3', 'keywords': '', 'modDate': \"D:20061216135039-08'00'\", 'moddate': '2006-12-16T13:50:39-08:00', 'page': 401, 'producer': 'Acrobat Distiller 5.0.5 (Windows)', 'source': '/content/drive/MyDrive/build-ai-based-applications/probability_textbook_ee.pdf', 'subject': '', 'title': 'probww.dvi', 'total_pages': 537, 'trapped': ''}, page_content='384\\nCHAPTER 10\\nSTOCHASTIC PROCESSES\\nThat is, white noise has inﬁnite average power,which is physically impossible. The model is\\nuseful, however, because any Gaussian noise signal observed in practice can be interpreted\\nas a ﬁltered white Gaussian noise signal with ﬁnite power. We explore this interpretation\\nin Chapter 11.\\nQuiz 10.12\\nX(t) is a stationary Gaussian randomprocess with µ X(t) = 0 and autocorrelationfunction\\nRX(τ) = 2−|τ|. What is the joint PDF of X(t) and X(t + 1)?\\n10.13\\nMatlab\\nStochastic processes appear in models of many phenomena studied by electrical and com-\\nputer engineers. When the phenomena are complicated, Matlab simulations are valuable\\nanalysis tools. To produce Matlab simulations we need to develop codes for stochastic\\nprocesses. For example, to simulate the cellular telephone switch of Example 10.4, we need\\nto model both the arrivals and departures of calls. A Poisson process N(t) is a conventional\\nmodel for arrivals.\\nExample 10.26\\nUse Matlab to generate the arrival times S 1, S2, . . . of a rate λ Poisson process over\\na time interval [0, T].\\n.. . . . . .. . . . . . . .. . . . . . . . .. . . . . . . .. . . . . . . .. . . . . . . .. . . . . . . .. . . . . . . .. . . . . . . .. . . . . . . .. . . .\\nTo generate Poisson arrivals at rate λ, we employ Theorem 10.4 which says that the\\ninterarrival times are independentexponential(λ) random variables. Given interarrival\\ntimes X1, X2, . . ., the ith arrival time is the cumulative sum Si = X1 + X2 + · · · + Xi.')],\n",
       " 'answer': 'You should use a Poisson process when modeling random events that occur independently over time, such as customer arrivals at a service center, radioactive decay events, or network packet arrivals. It is suitable when the events are rare and random, with a constant average rate of occurrence. Poisson processes are commonly used in queuing theory, telecommunications, reliability analysis, and inventory management.'}"
      ]
     },
     "execution_count": 32,
     "metadata": {},
     "output_type": "execute_result"
    }
   ],
   "source": [
    "conversational_rag_chain.invoke(\n",
    "    {\"input\": \"When should I use it?\"},\n",
    "    config={\n",
    "        \"configurable\": {\"session_id\": session_id}\n",
    "    },\n",
    ")"
   ]
  },
  {
   "cell_type": "code",
   "execution_count": null,
   "metadata": {
    "id": "0TjifSA9_yiX"
   },
   "outputs": [],
   "source": []
  }
 ],
 "metadata": {
  "colab": {
   "provenance": [
    {
     "file_id": "12zNpR6Yl_ge4tvhLGqXOANZh6TVBqb6K",
     "timestamp": 1739718959547
    }
   ],
   "toc_visible": true
  },
  "kernelspec": {
   "display_name": "Python 3",
   "name": "python3"
  },
  "language_info": {
   "codemirror_mode": {
    "name": "ipython",
    "version": 3
   },
   "file_extension": ".py",
   "mimetype": "text/x-python",
   "name": "python",
   "nbconvert_exporter": "python",
   "pygments_lexer": "ipython3",
   "version": "3.10.12"
  }
 },
 "nbformat": 4,
 "nbformat_minor": 0
}
