{
 "cells": [
  {
   "cell_type": "markdown",
   "id": "1559d595",
   "metadata": {},
   "source": [
    "[![Open In Colab](https://colab.research.google.com/assets/colab-badge.svg)](https://colab.research.google.com/github/witchapong/build-ai-based-applications/blob/main/llm/1_basic_llm_applications.ipynb)"
   ]
  },
  {
   "cell_type": "markdown",
   "id": "f92b54a4",
   "metadata": {
    "id": "f92b54a4"
   },
   "source": [
    "# Basic LLMs Applications\n",
    "\n",
    "In this notebook, we'll learn to build basic LLMs applications using [LangChain](https://python.langchain.com/docs/introduction/), a framework for simplifying development of LLM application.\n",
    "\n",
    "The content of this notebook is mainly modified from content from [KBTG M.A.D.Bootcamp](https://kbtgkampus.tech/)."
   ]
  },
  {
   "cell_type": "code",
   "execution_count": null,
   "id": "85351958",
   "metadata": {
    "ExecuteTime": {
     "end_time": "2024-06-06T14:22:37.625504Z",
     "start_time": "2024-06-06T14:22:23.455271Z"
    },
    "colab": {
     "base_uri": "https://localhost:8080/"
    },
    "collapsed": true,
    "executionInfo": {
     "elapsed": 20433,
     "status": "ok",
     "timestamp": 1740141583431,
     "user": {
      "displayName": "Witchapong Daroontham",
      "userId": "15288324432596741279"
     },
     "user_tz": -420
    },
    "id": "85351958",
    "outputId": "2cc97fb4-ef80-4b7d-850e-796eaa36c219"
   },
   "outputs": [
    {
     "name": "stdout",
     "output_type": "stream",
     "text": [
      "\u001b[?25l   \u001b[90m━━━━━━━━━━━━━━━━━━━━━━━━━━━━━━━━━━━━━━━━\u001b[0m \u001b[32m0.0/973.6 kB\u001b[0m \u001b[31m?\u001b[0m eta \u001b[36m-:--:--\u001b[0m\r\u001b[2K   \u001b[91m━━━━━━━━━━━━━━━━━━━━━━━━━━━━━━━━━━━━━━━\u001b[0m\u001b[91m╸\u001b[0m \u001b[32m972.8/973.6 kB\u001b[0m \u001b[31m31.3 MB/s\u001b[0m eta \u001b[36m0:00:01\u001b[0m\r\u001b[2K   \u001b[90m━━━━━━━━━━━━━━━━━━━━━━━━━━━━━━━━━━━━━━━━\u001b[0m \u001b[32m973.6/973.6 kB\u001b[0m \u001b[31m20.0 MB/s\u001b[0m eta \u001b[36m0:00:00\u001b[0m\n",
      "\u001b[?25h\u001b[?25l   \u001b[90m━━━━━━━━━━━━━━━━━━━━━━━━━━━━━━━━━━━━━━━━\u001b[0m \u001b[32m0.0/397.1 kB\u001b[0m \u001b[31m?\u001b[0m eta \u001b[36m-:--:--\u001b[0m\r\u001b[2K   \u001b[90m━━━━━━━━━━━━━━━━━━━━━━━━━━━━━━━━━━━━━━━━\u001b[0m \u001b[32m397.1/397.1 kB\u001b[0m \u001b[31m30.0 MB/s\u001b[0m eta \u001b[36m0:00:00\u001b[0m\n",
      "\u001b[2K   \u001b[90m━━━━━━━━━━━━━━━━━━━━━━━━━━━━━━━━━━━━━━━━\u001b[0m \u001b[32m311.8/311.8 kB\u001b[0m \u001b[31m24.2 MB/s\u001b[0m eta \u001b[36m0:00:00\u001b[0m\n",
      "\u001b[2K   \u001b[90m━━━━━━━━━━━━━━━━━━━━━━━━━━━━━━━━━━━━━━━━\u001b[0m \u001b[32m2.2/2.2 MB\u001b[0m \u001b[31m1.7 MB/s\u001b[0m eta \u001b[36m0:00:00\u001b[0m\n",
      "\u001b[2K   \u001b[90m━━━━━━━━━━━━━━━━━━━━━━━━━━━━━━━━━━━━━━━━\u001b[0m \u001b[32m50.9/50.9 kB\u001b[0m \u001b[31m4.6 MB/s\u001b[0m eta \u001b[36m0:00:00\u001b[0m\n",
      "\u001b[2K   \u001b[90m━━━━━━━━━━━━━━━━━━━━━━━━━━━━━━━━━━━━━━━━\u001b[0m \u001b[32m1.2/1.2 MB\u001b[0m \u001b[31m22.4 MB/s\u001b[0m eta \u001b[36m0:00:00\u001b[0m\n",
      "\u001b[?25h"
     ]
    }
   ],
   "source": [
    "!pip install -q langchain==0.2.2\n",
    "!pip install -q langchain_community==0.2.3\n",
    "!pip install -q langchain-openai==0.1.8"
   ]
  },
  {
   "cell_type": "markdown",
   "id": "f3a07280",
   "metadata": {
    "id": "f3a07280"
   },
   "source": [
    "## Generate OpenAI key\n",
    "\n",
    "Generate key from: https://platform.openai.com/api-keys"
   ]
  },
  {
   "cell_type": "code",
   "execution_count": null,
   "id": "282b2550",
   "metadata": {
    "ExecuteTime": {
     "end_time": "2024-06-06T14:26:32.557670Z",
     "start_time": "2024-06-06T14:26:32.555816Z"
    },
    "id": "282b2550"
   },
   "outputs": [],
   "source": [
    "import os\n",
    "\n",
    "# TODO: put your generated openai key here\n",
    "os.environ[\"OPENAI_API_KEY\"] = \"YOUR-SECRET-API-KEY\""
   ]
  },
  {
   "cell_type": "markdown",
   "id": "a0c2917f",
   "metadata": {
    "id": "a0c2917f"
   },
   "source": [
    "## Call OpenAI using Langchain Model\n",
    "Here, we'll try sending text to ChatGPT via API through Langchain library. Instead of chating with ChatGPT through a message box on using its [web-interface](https://chatgpt.com/) like usual, we'll do it through coding instead!"
   ]
  },
  {
   "cell_type": "code",
   "execution_count": null,
   "id": "cdf37457",
   "metadata": {
    "ExecuteTime": {
     "end_time": "2024-06-06T17:46:24.942467Z",
     "start_time": "2024-06-06T17:46:24.940483Z"
    },
    "id": "cdf37457"
   },
   "outputs": [],
   "source": [
    "from langchain_openai import ChatOpenAI\n",
    "from langchain_core.messages import HumanMessage, SystemMessage, AIMessage\n",
    "from langchain_core.output_parsers import StrOutputParser"
   ]
  },
  {
   "cell_type": "code",
   "execution_count": null,
   "id": "49d7813b",
   "metadata": {
    "colab": {
     "base_uri": "https://localhost:8080/"
    },
    "executionInfo": {
     "elapsed": 1195,
     "status": "ok",
     "timestamp": 1739691332644,
     "user": {
      "displayName": "Witchapong Daroontham",
      "userId": "15288324432596741279"
     },
     "user_tz": -420
    },
    "id": "49d7813b",
    "outputId": "fbf6399a-bd12-47cc-b691-5b49dc8af50d"
   },
   "outputs": [
    {
     "name": "stdout",
     "output_type": "stream",
     "text": [
      "content='Hello! How can I assist you today?' response_metadata={'token_usage': {'completion_tokens': 10, 'prompt_tokens': 16, 'total_tokens': 26, 'completion_tokens_details': {'accepted_prediction_tokens': 0, 'audio_tokens': 0, 'reasoning_tokens': 0, 'rejected_prediction_tokens': 0}, 'prompt_tokens_details': {'audio_tokens': 0, 'cached_tokens': 0}}, 'model_name': 'gpt-3.5-turbo', 'system_fingerprint': None, 'finish_reason': 'stop', 'logprobs': None} id='run-27be22d4-8344-40b3-aca1-6cb827986317-0' usage_metadata={'input_tokens': 16, 'output_tokens': 10, 'total_tokens': 26}\n"
     ]
    }
   ],
   "source": [
    "# write langchain model\n",
    "model = ChatOpenAI(model=\"gpt-3.5-turbo\")\n",
    "\n",
    "messages = [\n",
    "    HumanMessage(content=\"Hello from SIIT Rangsit Campus!\")\n",
    "]\n",
    "\n",
    "m = model.invoke(messages)\n",
    "print(m)"
   ]
  },
  {
   "cell_type": "code",
   "execution_count": null,
   "id": "ugfqOF7XEqB_",
   "metadata": {
    "colab": {
     "base_uri": "https://localhost:8080/"
    },
    "executionInfo": {
     "elapsed": 406,
     "status": "ok",
     "timestamp": 1739691339183,
     "user": {
      "displayName": "Witchapong Daroontham",
      "userId": "15288324432596741279"
     },
     "user_tz": -420
    },
    "id": "ugfqOF7XEqB_",
    "outputId": "75646e7c-5890-43c7-a2a9-f847f5034e81"
   },
   "outputs": [
    {
     "name": "stdout",
     "output_type": "stream",
     "text": [
      "Hello! How can I assist you today?\n"
     ]
    }
   ],
   "source": [
    "print(m.content)"
   ]
  },
  {
   "cell_type": "code",
   "execution_count": null,
   "id": "b4374e8b",
   "metadata": {
    "ExecuteTime": {
     "end_time": "2024-06-06T14:28:51.353763Z",
     "start_time": "2024-06-06T14:28:51.349665Z"
    },
    "id": "b4374e8b"
   },
   "outputs": [],
   "source": [
    "# write langchain parser\n",
    "parser = StrOutputParser()"
   ]
  },
  {
   "cell_type": "code",
   "execution_count": null,
   "id": "8M34N7jGMgje",
   "metadata": {
    "colab": {
     "base_uri": "https://localhost:8080/",
     "height": 35
    },
    "executionInfo": {
     "elapsed": 5,
     "status": "ok",
     "timestamp": 1739691345648,
     "user": {
      "displayName": "Witchapong Daroontham",
      "userId": "15288324432596741279"
     },
     "user_tz": -420
    },
    "id": "8M34N7jGMgje",
    "outputId": "d93bcfb3-8914-4f25-d7ba-ac8f3fa32f5d"
   },
   "outputs": [
    {
     "data": {
      "application/vnd.google.colaboratory.intrinsic+json": {
       "type": "string"
      },
      "text/plain": [
       "'Hello! How can I assist you today?'"
      ]
     },
     "execution_count": 50,
     "metadata": {},
     "output_type": "execute_result"
    }
   ],
   "source": [
    "parser.invoke(m)"
   ]
  },
  {
   "cell_type": "code",
   "execution_count": null,
   "id": "21e373f1",
   "metadata": {
    "ExecuteTime": {
     "end_time": "2024-06-06T14:29:31.667470Z",
     "start_time": "2024-06-06T14:29:31.665545Z"
    },
    "id": "21e373f1"
   },
   "outputs": [],
   "source": [
    "# chain langchain model and parser\n",
    "chain = model | parser"
   ]
  },
  {
   "cell_type": "code",
   "execution_count": null,
   "id": "8rUhu_tdFIvS",
   "metadata": {
    "colab": {
     "base_uri": "https://localhost:8080/",
     "height": 35
    },
    "executionInfo": {
     "elapsed": 321,
     "status": "ok",
     "timestamp": 1739691375427,
     "user": {
      "displayName": "Witchapong Daroontham",
      "userId": "15288324432596741279"
     },
     "user_tz": -420
    },
    "id": "8rUhu_tdFIvS",
    "outputId": "fe4b49b6-9a84-4d7a-8c9f-3b19a766e719"
   },
   "outputs": [
    {
     "data": {
      "application/vnd.google.colaboratory.intrinsic+json": {
       "type": "string"
      },
      "text/plain": [
       "'Hello! How can I assist you today?'"
      ]
     },
     "execution_count": 52,
     "metadata": {},
     "output_type": "execute_result"
    }
   ],
   "source": [
    "chain.invoke(messages)"
   ]
  },
  {
   "cell_type": "markdown",
   "id": "9cb158b2",
   "metadata": {
    "id": "9cb158b2"
   },
   "source": [
    "## Application-1: Improve Grammar and Stylize Writing using Langchain PromptTemplate\n",
    "Here, we'll create a program that receives input English text or sentences and a language style that we want to augment the input text. Our program will then output grammar-corrected and stylized English text."
   ]
  },
  {
   "cell_type": "code",
   "execution_count": null,
   "id": "cfdc5f15",
   "metadata": {
    "ExecuteTime": {
     "end_time": "2024-06-06T14:40:08.705022Z",
     "start_time": "2024-06-06T14:40:08.703360Z"
    },
    "id": "cfdc5f15"
   },
   "outputs": [],
   "source": [
    "from langchain_core.prompts import ChatPromptTemplate"
   ]
  },
  {
   "cell_type": "code",
   "execution_count": null,
   "id": "0e7df91d",
   "metadata": {
    "ExecuteTime": {
     "end_time": "2024-06-06T14:40:09.436696Z",
     "start_time": "2024-06-06T14:40:09.434885Z"
    },
    "colab": {
     "base_uri": "https://localhost:8080/"
    },
    "executionInfo": {
     "elapsed": 356,
     "status": "ok",
     "timestamp": 1739691602781,
     "user": {
      "displayName": "Witchapong Daroontham",
      "userId": "15288324432596741279"
     },
     "user_tz": -420
    },
    "id": "0e7df91d",
    "outputId": "8087f073-6c90-468c-9324-5660064113db"
   },
   "outputs": [
    {
     "data": {
      "text/plain": [
       "ChatPromptValue(messages=[SystemMessage(content='You will be provided with statements, and your task is to convert them to standard English. Using royal vocabularies as if speaking with members of a royal family.'), HumanMessage(content='Hello agan mi freind. Where did you just went lastnight?')])"
      ]
     },
     "execution_count": 55,
     "metadata": {},
     "output_type": "execute_result"
    }
   ],
   "source": [
    "system_template = \"You will be provided with statements, and your task is to convert them to standard English.\"\n",
    "\n",
    "style_prompts = {\n",
    "    \"default\": \"\",\n",
    "    \"academic\": \" Ensure that the language used is appropriate for an academic research publication.\",\n",
    "    \"ielts\": \" Using fancy words. Ensure that the language used meets the standards required for an IELTS score of 8.0.\",\n",
    "    \"informal\": \" Make it informal like talking to a friend.\",\n",
    "    \"royal\": \" Using royal vocabularies as if speaking with members of a royal family.\"\n",
    "}\n",
    "\n",
    "prompt_template = ChatPromptTemplate.from_messages(\n",
    "    [\n",
    "        (\"system\", system_template + \"{style}\"),\n",
    "        (\"user\", \"{text}\")\n",
    "    ]\n",
    ")\n",
    "\n",
    "user_text = \"Hello agan mi freind. Where did you just went lastnight?\"\n",
    "user_style = \"royal\"\n",
    "\n",
    "prompt_template.invoke({\"text\" : user_text, \"style\": style_prompts[user_style]})"
   ]
  },
  {
   "cell_type": "code",
   "execution_count": null,
   "id": "0d90216a",
   "metadata": {
    "ExecuteTime": {
     "end_time": "2024-06-06T14:40:10.376203Z",
     "start_time": "2024-06-06T14:40:10.374261Z"
    },
    "id": "0d90216a"
   },
   "outputs": [],
   "source": [
    "# chain everything together\n",
    "\n",
    "chain = prompt_template | model | parser"
   ]
  },
  {
   "cell_type": "code",
   "execution_count": null,
   "id": "3gLTlTb1LaEs",
   "metadata": {
    "colab": {
     "base_uri": "https://localhost:8080/",
     "height": 35
    },
    "executionInfo": {
     "elapsed": 390,
     "status": "ok",
     "timestamp": 1739691676084,
     "user": {
      "displayName": "Witchapong Daroontham",
      "userId": "15288324432596741279"
     },
     "user_tz": -420
    },
    "id": "3gLTlTb1LaEs",
    "outputId": "05125a54-5bd0-4fce-8a05-553b27a69268"
   },
   "outputs": [
    {
     "data": {
      "application/vnd.google.colaboratory.intrinsic+json": {
       "type": "string"
      },
      "text/plain": [
       "'Greetings, my dear friend. May I inquire as to where you ventured last night?'"
      ]
     },
     "execution_count": 57,
     "metadata": {},
     "output_type": "execute_result"
    }
   ],
   "source": [
    "chain.invoke({\"text\": user_text, \"style\": style_prompts[user_style]})"
   ]
  },
  {
   "cell_type": "code",
   "execution_count": null,
   "id": "b4cf4d74",
   "metadata": {
    "ExecuteTime": {
     "end_time": "2024-06-06T14:43:24.478728Z",
     "start_time": "2024-06-06T14:43:24.475882Z"
    },
    "id": "b4cf4d74"
   },
   "outputs": [],
   "source": [
    "def improve_grammar(text, style=\"default\"):\n",
    "    # TODO-7: write function\n",
    "\n",
    "    style_text_prompt = style_prompts[style]\n",
    "    return chain.invoke({\"text\": text, \"style\": style_text_prompt})"
   ]
  },
  {
   "cell_type": "code",
   "execution_count": null,
   "id": "5214ad05",
   "metadata": {
    "ExecuteTime": {
     "end_time": "2024-06-06T14:42:41.757726Z",
     "start_time": "2024-06-06T14:42:40.393504Z"
    },
    "colab": {
     "base_uri": "https://localhost:8080/",
     "height": 35
    },
    "executionInfo": {
     "elapsed": 400,
     "status": "ok",
     "timestamp": 1739691719094,
     "user": {
      "displayName": "Witchapong Daroontham",
      "userId": "15288324432596741279"
     },
     "user_tz": -420
    },
    "id": "5214ad05",
    "outputId": "b64c4691-5052-4824-b7a1-b98286126ed6"
   },
   "outputs": [
    {
     "data": {
      "application/vnd.google.colaboratory.intrinsic+json": {
       "type": "string"
      },
      "text/plain": [
       "'Hello again, my friends!'"
      ]
     },
     "execution_count": 59,
     "metadata": {},
     "output_type": "execute_result"
    }
   ],
   "source": [
    "# TODO-8: test your function\n",
    "user_text = \"Hello again mine frinnds!\"\n",
    "improve_grammar(user_text)"
   ]
  },
  {
   "cell_type": "code",
   "execution_count": null,
   "id": "1WFbYGQbHh6P",
   "metadata": {
    "colab": {
     "base_uri": "https://localhost:8080/",
     "height": 35
    },
    "executionInfo": {
     "elapsed": 732,
     "status": "ok",
     "timestamp": 1739691720307,
     "user": {
      "displayName": "Witchapong Daroontham",
      "userId": "15288324432596741279"
     },
     "user_tz": -420
    },
    "id": "1WFbYGQbHh6P",
    "outputId": "97e3c1f7-5f48-4c34-d706-4eee143350fe"
   },
   "outputs": [
    {
     "data": {
      "application/vnd.google.colaboratory.intrinsic+json": {
       "type": "string"
      },
      "text/plain": [
       "'Greetings once more, my esteemed companions!'"
      ]
     },
     "execution_count": 60,
     "metadata": {},
     "output_type": "execute_result"
    }
   ],
   "source": [
    "improve_grammar(user_text, \"ielts\")"
   ]
  },
  {
   "cell_type": "code",
   "execution_count": null,
   "id": "6DHGxVM6Hkfa",
   "metadata": {
    "colab": {
     "base_uri": "https://localhost:8080/",
     "height": 35
    },
    "executionInfo": {
     "elapsed": 394,
     "status": "ok",
     "timestamp": 1739691720699,
     "user": {
      "displayName": "Witchapong Daroontham",
      "userId": "15288324432596741279"
     },
     "user_tz": -420
    },
    "id": "6DHGxVM6Hkfa",
    "outputId": "d78d256d-68fb-464a-bc82-b2ddfbe63ccf"
   },
   "outputs": [
    {
     "data": {
      "application/vnd.google.colaboratory.intrinsic+json": {
       "type": "string"
      },
      "text/plain": [
       "\"Hey friends, how's it going?\""
      ]
     },
     "execution_count": 61,
     "metadata": {},
     "output_type": "execute_result"
    }
   ],
   "source": [
    "improve_grammar(user_text, \"informal\")"
   ]
  },
  {
   "cell_type": "code",
   "execution_count": null,
   "id": "_kbLP3-YnN7y",
   "metadata": {
    "colab": {
     "base_uri": "https://localhost:8080/",
     "height": 35
    },
    "executionInfo": {
     "elapsed": 558,
     "status": "ok",
     "timestamp": 1739691724972,
     "user": {
      "displayName": "Witchapong Daroontham",
      "userId": "15288324432596741279"
     },
     "user_tz": -420
    },
    "id": "_kbLP3-YnN7y",
    "outputId": "f9f4119a-422c-480d-dab8-0aaf33fa6840"
   },
   "outputs": [
    {
     "data": {
      "application/vnd.google.colaboratory.intrinsic+json": {
       "type": "string"
      },
      "text/plain": [
       "'Greetings once more, my friends!'"
      ]
     },
     "execution_count": 62,
     "metadata": {},
     "output_type": "execute_result"
    }
   ],
   "source": [
    "improve_grammar(user_text, \"royal\")"
   ]
  },
  {
   "cell_type": "markdown",
   "id": "163fed31",
   "metadata": {
    "id": "163fed31"
   },
   "source": [
    "## Application-2: Chatbot\n",
    "In this part, we'll build a history-aware chatbot."
   ]
  },
  {
   "cell_type": "code",
   "execution_count": null,
   "id": "a18e9bd1",
   "metadata": {
    "ExecuteTime": {
     "end_time": "2024-06-06T17:46:58.346884Z",
     "start_time": "2024-06-06T17:46:58.334728Z"
    },
    "id": "a18e9bd1"
   },
   "outputs": [],
   "source": [
    "model = ChatOpenAI(model=\"gpt-3.5-turbo\")"
   ]
  },
  {
   "cell_type": "code",
   "execution_count": null,
   "id": "0b466299",
   "metadata": {
    "ExecuteTime": {
     "end_time": "2024-06-06T17:47:48.742128Z",
     "start_time": "2024-06-06T17:47:47.634454Z"
    },
    "colab": {
     "base_uri": "https://localhost:8080/"
    },
    "executionInfo": {
     "elapsed": 403,
     "status": "ok",
     "timestamp": 1739691848131,
     "user": {
      "displayName": "Witchapong Daroontham",
      "userId": "15288324432596741279"
     },
     "user_tz": -420
    },
    "id": "0b466299",
    "outputId": "b433b519-ea93-4aa1-9f4a-36717fc363d5",
    "scrolled": false
   },
   "outputs": [
    {
     "name": "stdout",
     "output_type": "stream",
     "text": [
      "Hello MICK! How can I assist you today?\n"
     ]
    }
   ],
   "source": [
    "messages = [\n",
    "    HumanMessage(content=\"Hello my name is MICK!\")\n",
    "]\n",
    "\n",
    "m = model.invoke(messages)\n",
    "print(m.content)"
   ]
  },
  {
   "cell_type": "code",
   "execution_count": null,
   "id": "c87a5ddf",
   "metadata": {
    "ExecuteTime": {
     "end_time": "2024-06-06T17:47:49.679878Z",
     "start_time": "2024-06-06T17:47:48.743305Z"
    },
    "colab": {
     "base_uri": "https://localhost:8080/"
    },
    "executionInfo": {
     "elapsed": 826,
     "status": "ok",
     "timestamp": 1739691855771,
     "user": {
      "displayName": "Witchapong Daroontham",
      "userId": "15288324432596741279"
     },
     "user_tz": -420
    },
    "id": "c87a5ddf",
    "outputId": "14faade2-47a9-404c-fec4-88a3140605c8"
   },
   "outputs": [
    {
     "name": "stdout",
     "output_type": "stream",
     "text": [
      "I'm sorry, I do not have access to personal information about users.\n"
     ]
    }
   ],
   "source": [
    "messages = [\n",
    "    HumanMessage(content=\"What's my name?\")\n",
    "]\n",
    "\n",
    "m = model.invoke(messages)\n",
    "print(m.content)"
   ]
  },
  {
   "cell_type": "code",
   "execution_count": null,
   "id": "87783997",
   "metadata": {
    "ExecuteTime": {
     "end_time": "2024-06-06T17:48:24.241343Z",
     "start_time": "2024-06-06T17:48:23.353076Z"
    },
    "colab": {
     "base_uri": "https://localhost:8080/"
    },
    "executionInfo": {
     "elapsed": 658,
     "status": "ok",
     "timestamp": 1739691866152,
     "user": {
      "displayName": "Witchapong Daroontham",
      "userId": "15288324432596741279"
     },
     "user_tz": -420
    },
    "id": "87783997",
    "outputId": "71f4eba1-869a-4b60-e7fa-f5910d5b616e"
   },
   "outputs": [
    {
     "name": "stdout",
     "output_type": "stream",
     "text": [
      "Your name is MICK.\n"
     ]
    }
   ],
   "source": [
    "# include history\n",
    "messages = [\n",
    "    HumanMessage(content=\"Hello my name is MICK!\"),\n",
    "    AIMessage(content=\"Hello MICK! Nice to meet you! How can I assist you today?\"),\n",
    "    HumanMessage(content=\"What's my name?\")\n",
    "]\n",
    "\n",
    "m = model.invoke(messages)\n",
    "print(m.content)"
   ]
  },
  {
   "cell_type": "code",
   "execution_count": null,
   "id": "68a269b0",
   "metadata": {
    "ExecuteTime": {
     "end_time": "2024-06-06T17:51:24.696561Z",
     "start_time": "2024-06-06T17:51:24.681459Z"
    },
    "id": "68a269b0"
   },
   "outputs": [],
   "source": [
    "from langchain_community.chat_message_histories import ChatMessageHistory\n",
    "from langchain_core.chat_history import BaseChatMessageHistory\n",
    "from langchain_core.runnables.history import RunnableWithMessageHistory\n",
    "\n",
    "store = {}\n",
    "\n",
    "def get_session_history(session_id: str) -> BaseChatMessageHistory:\n",
    "    if session_id not in store:\n",
    "        store[session_id] = ChatMessageHistory()\n",
    "    return store[session_id]"
   ]
  },
  {
   "cell_type": "code",
   "execution_count": null,
   "id": "4e53a667",
   "metadata": {
    "ExecuteTime": {
     "end_time": "2024-06-06T17:54:36.592586Z",
     "start_time": "2024-06-06T17:54:36.590557Z"
    },
    "id": "4e53a667"
   },
   "outputs": [],
   "source": [
    "# wrap model object\n",
    "with_message_history = RunnableWithMessageHistory(model, get_session_history)"
   ]
  },
  {
   "cell_type": "code",
   "execution_count": null,
   "id": "70fb0bd9",
   "metadata": {
    "ExecuteTime": {
     "end_time": "2024-06-06T17:54:41.007289Z",
     "start_time": "2024-06-06T17:54:41.005671Z"
    },
    "id": "70fb0bd9"
   },
   "outputs": [],
   "source": [
    "config_1 = {\"configurable\": {\"session_id\": \"room-0001\"}}"
   ]
  },
  {
   "cell_type": "code",
   "execution_count": null,
   "id": "60cc4abd",
   "metadata": {
    "ExecuteTime": {
     "end_time": "2024-06-06T17:54:42.861946Z",
     "start_time": "2024-06-06T17:54:41.880278Z"
    },
    "colab": {
     "base_uri": "https://localhost:8080/"
    },
    "executionInfo": {
     "elapsed": 3,
     "status": "ok",
     "timestamp": 1739691939608,
     "user": {
      "displayName": "Witchapong Daroontham",
      "userId": "15288324432596741279"
     },
     "user_tz": -420
    },
    "id": "60cc4abd",
    "outputId": "2b3fb7cf-e880-44aa-c4dd-74f238c7e703"
   },
   "outputs": [
    {
     "name": "stdout",
     "output_type": "stream",
     "text": [
      "Hello Mick! How are you doing today?\n"
     ]
    }
   ],
   "source": [
    "response = with_message_history.invoke(\n",
    "    [HumanMessage(content=\"Hi! I'm Mick!\")],\n",
    "    config=config_1,\n",
    ")\n",
    "\n",
    "print(response.content)"
   ]
  },
  {
   "cell_type": "code",
   "execution_count": null,
   "id": "b3d988f7",
   "metadata": {
    "ExecuteTime": {
     "end_time": "2024-06-06T17:54:55.788959Z",
     "start_time": "2024-06-06T17:54:55.115441Z"
    },
    "colab": {
     "base_uri": "https://localhost:8080/"
    },
    "executionInfo": {
     "elapsed": 740,
     "status": "ok",
     "timestamp": 1739691942669,
     "user": {
      "displayName": "Witchapong Daroontham",
      "userId": "15288324432596741279"
     },
     "user_tz": -420
    },
    "id": "b3d988f7",
    "outputId": "99978115-fba5-4264-d04a-a39714a1860b"
   },
   "outputs": [
    {
     "name": "stdout",
     "output_type": "stream",
     "text": [
      "Your name is Mick!\n"
     ]
    }
   ],
   "source": [
    "response = with_message_history.invoke(\n",
    "    [HumanMessage(content=\"What's my name?\")],\n",
    "    config=config_1,\n",
    ")\n",
    "\n",
    "print(response.content)"
   ]
  },
  {
   "cell_type": "code",
   "execution_count": null,
   "id": "c0880ba2",
   "metadata": {
    "ExecuteTime": {
     "end_time": "2024-06-06T17:55:29.244446Z",
     "start_time": "2024-06-06T17:55:29.242476Z"
    },
    "colab": {
     "base_uri": "https://localhost:8080/"
    },
    "executionInfo": {
     "elapsed": 318,
     "status": "ok",
     "timestamp": 1739691947120,
     "user": {
      "displayName": "Witchapong Daroontham",
      "userId": "15288324432596741279"
     },
     "user_tz": -420
    },
    "id": "c0880ba2",
    "outputId": "59c5577e-1828-4025-817b-32eea516c49d"
   },
   "outputs": [
    {
     "name": "stdout",
     "output_type": "stream",
     "text": [
      "{'room-0001': InMemoryChatMessageHistory(messages=[HumanMessage(content=\"Hi! I'm Mick!\"), AIMessage(content='Hello Mick! How are you doing today?', response_metadata={'token_usage': {'completion_tokens': 10, 'prompt_tokens': 13, 'total_tokens': 23, 'completion_tokens_details': {'accepted_prediction_tokens': 0, 'audio_tokens': 0, 'reasoning_tokens': 0, 'rejected_prediction_tokens': 0}, 'prompt_tokens_details': {'audio_tokens': 0, 'cached_tokens': 0}}, 'model_name': 'gpt-3.5-turbo', 'system_fingerprint': None, 'finish_reason': 'stop', 'logprobs': None}, id='run-6ec70121-19c8-4a19-9b63-15c160aa486c-0', usage_metadata={'input_tokens': 13, 'output_tokens': 10, 'total_tokens': 23}), HumanMessage(content=\"What's my name?\"), AIMessage(content='Your name is Mick!', response_metadata={'token_usage': {'completion_tokens': 6, 'prompt_tokens': 35, 'total_tokens': 41, 'completion_tokens_details': {'accepted_prediction_tokens': 0, 'audio_tokens': 0, 'reasoning_tokens': 0, 'rejected_prediction_tokens': 0}, 'prompt_tokens_details': {'audio_tokens': 0, 'cached_tokens': 0}}, 'model_name': 'gpt-3.5-turbo', 'system_fingerprint': None, 'finish_reason': 'stop', 'logprobs': None}, id='run-50865fcd-1232-4a96-8f32-85ead1f4b677-0', usage_metadata={'input_tokens': 35, 'output_tokens': 6, 'total_tokens': 41})])}\n"
     ]
    }
   ],
   "source": [
    "print(store)"
   ]
  },
  {
   "cell_type": "code",
   "execution_count": null,
   "id": "ef0d9b92",
   "metadata": {
    "ExecuteTime": {
     "end_time": "2024-06-06T17:55:41.874469Z",
     "start_time": "2024-06-06T17:55:41.872623Z"
    },
    "id": "ef0d9b92"
   },
   "outputs": [],
   "source": [
    "config_2 = {\"configurable\": {\"session_id\": \"room-0002\"}}"
   ]
  },
  {
   "cell_type": "code",
   "execution_count": null,
   "id": "52d0a4dc",
   "metadata": {
    "ExecuteTime": {
     "end_time": "2024-06-06T17:56:04.212890Z",
     "start_time": "2024-06-06T17:56:03.164003Z"
    },
    "colab": {
     "base_uri": "https://localhost:8080/"
    },
    "executionInfo": {
     "elapsed": 795,
     "status": "ok",
     "timestamp": 1739691951104,
     "user": {
      "displayName": "Witchapong Daroontham",
      "userId": "15288324432596741279"
     },
     "user_tz": -420
    },
    "id": "52d0a4dc",
    "outputId": "a6791207-bbc6-4aa5-d2bf-c1d7d3a9d558"
   },
   "outputs": [
    {
     "name": "stdout",
     "output_type": "stream",
     "text": [
      "I'm sorry, I do not have the ability to know your name unless you tell me.\n"
     ]
    }
   ],
   "source": [
    "# TODO-11: explore store\n",
    "response = with_message_history.invoke(\n",
    "    [HumanMessage(content=\"What's my name?\")],\n",
    "    config=config_2,\n",
    ")\n",
    "\n",
    "print(response.content)"
   ]
  },
  {
   "cell_type": "code",
   "execution_count": null,
   "id": "vEbLR_ftI_ro",
   "metadata": {
    "colab": {
     "base_uri": "https://localhost:8080/"
    },
    "executionInfo": {
     "elapsed": 408,
     "status": "ok",
     "timestamp": 1739691972920,
     "user": {
      "displayName": "Witchapong Daroontham",
      "userId": "15288324432596741279"
     },
     "user_tz": -420
    },
    "id": "vEbLR_ftI_ro",
    "outputId": "77ced2f3-2847-419a-dc0d-360375945a27"
   },
   "outputs": [
    {
     "data": {
      "text/plain": [
       "{'room-0001': InMemoryChatMessageHistory(messages=[HumanMessage(content=\"Hi! I'm Mick!\"), AIMessage(content='Hello Mick! How are you doing today?', response_metadata={'token_usage': {'completion_tokens': 10, 'prompt_tokens': 13, 'total_tokens': 23, 'completion_tokens_details': {'accepted_prediction_tokens': 0, 'audio_tokens': 0, 'reasoning_tokens': 0, 'rejected_prediction_tokens': 0}, 'prompt_tokens_details': {'audio_tokens': 0, 'cached_tokens': 0}}, 'model_name': 'gpt-3.5-turbo', 'system_fingerprint': None, 'finish_reason': 'stop', 'logprobs': None}, id='run-6ec70121-19c8-4a19-9b63-15c160aa486c-0', usage_metadata={'input_tokens': 13, 'output_tokens': 10, 'total_tokens': 23}), HumanMessage(content=\"What's my name?\"), AIMessage(content='Your name is Mick!', response_metadata={'token_usage': {'completion_tokens': 6, 'prompt_tokens': 35, 'total_tokens': 41, 'completion_tokens_details': {'accepted_prediction_tokens': 0, 'audio_tokens': 0, 'reasoning_tokens': 0, 'rejected_prediction_tokens': 0}, 'prompt_tokens_details': {'audio_tokens': 0, 'cached_tokens': 0}}, 'model_name': 'gpt-3.5-turbo', 'system_fingerprint': None, 'finish_reason': 'stop', 'logprobs': None}, id='run-50865fcd-1232-4a96-8f32-85ead1f4b677-0', usage_metadata={'input_tokens': 35, 'output_tokens': 6, 'total_tokens': 41})]),\n",
       " 'room-0002': InMemoryChatMessageHistory(messages=[HumanMessage(content=\"What's my name?\"), AIMessage(content=\"I'm sorry, I do not have the ability to know your name unless you tell me.\", response_metadata={'token_usage': {'completion_tokens': 20, 'prompt_tokens': 12, 'total_tokens': 32, 'completion_tokens_details': {'accepted_prediction_tokens': 0, 'audio_tokens': 0, 'reasoning_tokens': 0, 'rejected_prediction_tokens': 0}, 'prompt_tokens_details': {'audio_tokens': 0, 'cached_tokens': 0}}, 'model_name': 'gpt-3.5-turbo', 'system_fingerprint': None, 'finish_reason': 'stop', 'logprobs': None}, id='run-d646d3ed-b8da-4aea-9760-533c89c677ab-0', usage_metadata={'input_tokens': 12, 'output_tokens': 20, 'total_tokens': 32})])}"
      ]
     },
     "execution_count": 79,
     "metadata": {},
     "output_type": "execute_result"
    }
   ],
   "source": [
    "store"
   ]
  },
  {
   "cell_type": "markdown",
   "id": "645bd8e1",
   "metadata": {
    "id": "645bd8e1"
   },
   "source": [
    "### Personalize Chatbot\n",
    "Now, let's personalize out chatbot by giving it a name."
   ]
  },
  {
   "cell_type": "code",
   "execution_count": null,
   "id": "5ae483f5",
   "metadata": {
    "ExecuteTime": {
     "end_time": "2024-06-06T18:01:04.163878Z",
     "start_time": "2024-06-06T18:01:04.161337Z"
    },
    "id": "5ae483f5"
   },
   "outputs": [],
   "source": [
    "from langchain_core.prompts import ChatPromptTemplate, MessagesPlaceholder\n",
    "\n",
    "prompt_template = ChatPromptTemplate.from_messages(\n",
    "    [\n",
    "        # add persona\n",
    "        (\n",
    "            \"system\",\n",
    "            \"You are a helpful assistant named \\\"Orca\\\"\"\n",
    "        ),\n",
    "        MessagesPlaceholder(variable_name=\"messages\"),\n",
    "    ]\n",
    ")\n",
    "\n",
    "chain = prompt_template | model"
   ]
  },
  {
   "cell_type": "code",
   "execution_count": null,
   "id": "e053dedd",
   "metadata": {
    "ExecuteTime": {
     "end_time": "2024-06-06T18:01:05.314819Z",
     "start_time": "2024-06-06T18:01:05.312766Z"
    },
    "id": "e053dedd"
   },
   "outputs": [],
   "source": [
    "store = {}\n",
    "\n",
    "def get_session_history(session_id: str) -> BaseChatMessageHistory:\n",
    "    if session_id not in store:\n",
    "        store[session_id] = ChatMessageHistory()\n",
    "    return store[session_id]\n",
    "\n",
    "with_message_history = RunnableWithMessageHistory(chain, get_session_history)"
   ]
  },
  {
   "cell_type": "code",
   "execution_count": null,
   "id": "8b767292",
   "metadata": {
    "ExecuteTime": {
     "end_time": "2024-06-06T18:01:06.109730Z",
     "start_time": "2024-06-06T18:01:06.107992Z"
    },
    "id": "8b767292"
   },
   "outputs": [],
   "source": [
    "config = {\"configurable\": {\"session_id\": \"room-0001\"}}"
   ]
  },
  {
   "cell_type": "code",
   "execution_count": null,
   "id": "5316ad0a",
   "metadata": {
    "ExecuteTime": {
     "end_time": "2024-06-06T18:01:08.717090Z",
     "start_time": "2024-06-06T18:01:07.677793Z"
    },
    "colab": {
     "base_uri": "https://localhost:8080/"
    },
    "executionInfo": {
     "elapsed": 1450,
     "status": "ok",
     "timestamp": 1739693468747,
     "user": {
      "displayName": "Witchapong Daroontham",
      "userId": "15288324432596741279"
     },
     "user_tz": -420
    },
    "id": "5316ad0a",
    "outputId": "0e9db6b2-b4f8-4121-da2d-07a62fd377dc"
   },
   "outputs": [
    {
     "name": "stdout",
     "output_type": "stream",
     "text": [
      "Hello Mick! How can I assist you today?\n"
     ]
    }
   ],
   "source": [
    "# test your bot persona\n",
    "response = with_message_history.invoke(\n",
    "    [HumanMessage(content=\"Hi! I'm Mick!\")],\n",
    "    config=config,\n",
    ")\n",
    "\n",
    "print(response.content)"
   ]
  },
  {
   "cell_type": "code",
   "execution_count": null,
   "id": "c2a9f80b",
   "metadata": {
    "ExecuteTime": {
     "end_time": "2024-06-06T18:01:11.460077Z",
     "start_time": "2024-06-06T18:01:10.735495Z"
    },
    "colab": {
     "base_uri": "https://localhost:8080/"
    },
    "executionInfo": {
     "elapsed": 1385,
     "status": "ok",
     "timestamp": 1739693470130,
     "user": {
      "displayName": "Witchapong Daroontham",
      "userId": "15288324432596741279"
     },
     "user_tz": -420
    },
    "id": "c2a9f80b",
    "outputId": "0b8821b0-f6bb-4e27-806e-3b2e415b0a0e"
   },
   "outputs": [
    {
     "name": "stdout",
     "output_type": "stream",
     "text": [
      "Your name is Mick. How can I assist you today, Mick?\n"
     ]
    }
   ],
   "source": [
    "response = with_message_history.invoke(\n",
    "    [HumanMessage(content=\"What's my name?\")],\n",
    "    config=config,\n",
    ")\n",
    "\n",
    "print(response.content)"
   ]
  },
  {
   "cell_type": "code",
   "execution_count": null,
   "id": "3a33be7a",
   "metadata": {
    "ExecuteTime": {
     "end_time": "2024-06-06T18:01:13.297845Z",
     "start_time": "2024-06-06T18:01:12.417983Z"
    },
    "colab": {
     "base_uri": "https://localhost:8080/"
    },
    "executionInfo": {
     "elapsed": 1386,
     "status": "ok",
     "timestamp": 1739693472045,
     "user": {
      "displayName": "Witchapong Daroontham",
      "userId": "15288324432596741279"
     },
     "user_tz": -420
    },
    "id": "3a33be7a",
    "outputId": "dc04aa1f-01d1-4b85-b5a8-0d4fb067ed50"
   },
   "outputs": [
    {
     "name": "stdout",
     "output_type": "stream",
     "text": [
      "My name is Orca. I'm here to help you with any questions or tasks you have. Just let me know how I can assist you today!\n"
     ]
    }
   ],
   "source": [
    "response = with_message_history.invoke(\n",
    "    [HumanMessage(content=\"What's your name?\")],\n",
    "    config=config,\n",
    ")\n",
    "\n",
    "print(response.content)"
   ]
  },
  {
   "cell_type": "code",
   "execution_count": null,
   "id": "BgMuMpQsY6PA",
   "metadata": {
    "id": "BgMuMpQsY6PA"
   },
   "outputs": [],
   "source": []
  }
 ],
 "metadata": {
  "colab": {
   "provenance": [
    {
     "file_id": "1oPFp3D0CJPeALxYAa-H9yNfptKOHicKz",
     "timestamp": 1738675042436
    }
   ],
   "toc_visible": true
  },
  "kernelspec": {
   "display_name": "Python 3 (ipykernel)",
   "language": "python",
   "name": "python3"
  },
  "language_info": {
   "codemirror_mode": {
    "name": "ipython",
    "version": 3
   },
   "file_extension": ".py",
   "mimetype": "text/x-python",
   "name": "python",
   "nbconvert_exporter": "python",
   "pygments_lexer": "ipython3",
   "version": "3.11.0"
  },
  "toc": {
   "base_numbering": 1,
   "nav_menu": {},
   "number_sections": true,
   "sideBar": true,
   "skip_h1_title": false,
   "title_cell": "Table of Contents",
   "title_sidebar": "Contents",
   "toc_cell": false,
   "toc_position": {},
   "toc_section_display": true,
   "toc_window_display": false
  }
 },
 "nbformat": 4,
 "nbformat_minor": 5
}
