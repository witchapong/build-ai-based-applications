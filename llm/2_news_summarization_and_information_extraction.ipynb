{
 "cells": [
  {
   "cell_type": "markdown",
   "id": "1d080c8b",
   "metadata": {},
   "source": [
    "[![Open In Colab](https://colab.research.google.com/assets/colab-badge.svg)](https://colab.research.google.com/github/witchapong/build-ai-based-applications/blob/main/llm/2_news_summarization_and_information_extraction.ipynb)"
   ]
  },
  {
   "cell_type": "markdown",
   "id": "ae0fc8e9",
   "metadata": {
    "id": "ae0fc8e9"
   },
   "source": [
    "# News Summarization and Information Extraction\n",
    "\n",
    "In this notebook, we'll learn how to build LLMs application for summarize and also extract useful key informations from lengthy news or articles.\n",
    "\n",
    "The content of this notebook is mainly modified from content from [KBTG M.A.D.Bootcamp](https://kbtgkampus.tech/)."
   ]
  },
  {
   "cell_type": "code",
   "execution_count": null,
   "id": "12e6fee7",
   "metadata": {
    "ExecuteTime": {
     "end_time": "2024-06-06T14:22:37.625504Z",
     "start_time": "2024-06-06T14:22:23.455271Z"
    },
    "collapsed": true,
    "id": "12e6fee7"
   },
   "outputs": [],
   "source": [
    "!pip install -q langchain==0.2.2\n",
    "!pip install -q langchain-openai==0.1.8"
   ]
  },
  {
   "cell_type": "markdown",
   "id": "91ee14ce",
   "metadata": {
    "id": "91ee14ce"
   },
   "source": [
    "## Generate OpenAI key\n",
    "\n",
    "Generate key from: https://platform.openai.com/api-keys"
   ]
  },
  {
   "cell_type": "code",
   "execution_count": null,
   "id": "db747224",
   "metadata": {
    "ExecuteTime": {
     "end_time": "2024-06-06T14:26:32.557670Z",
     "start_time": "2024-06-06T14:26:32.555816Z"
    },
    "id": "db747224"
   },
   "outputs": [],
   "source": [
    "import os\n",
    "\n",
    "# TODO: put your generated openai key here\n",
    "os.environ[\"OPENAI_API_KEY\"] = \"YOUR-SECRET-API-KEY\""
   ]
  },
  {
   "cell_type": "code",
   "execution_count": null,
   "id": "41f2e43a",
   "metadata": {
    "ExecuteTime": {
     "end_time": "2024-06-06T14:26:33.496499Z",
     "start_time": "2024-06-06T14:26:33.485191Z"
    },
    "id": "41f2e43a"
   },
   "outputs": [],
   "source": [
    "from langchain_openai import ChatOpenAI\n",
    "from langchain_core.messages import HumanMessage, SystemMessage\n",
    "from langchain_core.prompts import ChatPromptTemplate\n",
    "from langchain_core.output_parsers import StrOutputParser, JsonOutputParser"
   ]
  },
  {
   "cell_type": "code",
   "execution_count": null,
   "id": "QkqEnxKBNqgk",
   "metadata": {
    "id": "QkqEnxKBNqgk"
   },
   "outputs": [],
   "source": [
    "from langchain.globals import set_debug\n",
    "set_debug(False)"
   ]
  },
  {
   "cell_type": "code",
   "execution_count": null,
   "id": "HSztTNCw6ENN",
   "metadata": {
    "id": "HSztTNCw6ENN"
   },
   "outputs": [],
   "source": [
    "news_text = \"\"\"\n",
    "Inflation, interest rates and tariffs mean 2025 is shaping up to be an intriguing year for the global economy. One in which growth is expected to remain at a \"stable yet underwhelming\" 3.2%, according to the International Monetary Fund. So what might that mean for all of us?\n",
    "Exactly a week before Christmas there was a welcome gift for millions of American borrowers - a third interest rate cut in a row.\n",
    "However, stock markets fell sharply because the world's most powerful central banker, US Federal Reserve chair Jerome Powell, made clear they shouldn't expect as many further cuts in 2025 as they might have hoped for, as the battle against inflation continues.\n",
    "\"From here, it's a new phase, and we're going to be cautious about further cuts,\" he said.\n",
    "In recent years, the Covid pandemic and the war in Ukraine have led to sharp price rises around the world, and although prices are still increasing the pace has slowed markedly.\n",
    "Despite that, November saw inflation push up in the US, eurozone and UK to to 2.7%, 2.2% and 2.6% respectively. It highlights the difficulties many central banks face in the so-called \"last mile\" of their battle against inflation. Their target is 2%, and it might be easier to achieve if economies are growing.\n",
    "However, the biggest difficulty for global growth \"is uncertainty, and the uncertainty is coming from what may come out of the US under Trump 2.0\", says Luis Oganes, who is head of global macro research at investment bank JP Morgan.\n",
    "\n",
    "Since Donald Trump won November's election he's continued to threaten new tariffs against key US trading partners, China, Canada and Mexico.\n",
    "\"The US is going into a more isolationist policy stance, raising tariffs, trying to provide more effective protection to US manufacturing,\" says Mr Oganes.\n",
    "\"And even though that is going to support US growth, at least in the short term, certainly it's going to hurt many countries that rely on trade with the US.\"\n",
    "New tariffs \"could be particularly devastating\" for Mexico and Canada, but also be \"harmful\" to the US, according to Maurice Obstfeld, a former chief economist at the International Monetary Fund, and a previous economic advisor to President Obama.\n",
    "He cites car manufacturing as an example of an industry that \"depends on a supply chain that is spread across the three countries. If you disrupt that supply chain, you have massive disruptions in the auto market\".\n",
    "That has the potential to push up prices, reduce demand for products, and hurt company profits, which could in turn drag down investment levels, he explains.\n",
    "Mr Obstfeld, who is now with the Peterson Institute for International Economics, adds: \"Introducing these types of tariffs into a world that is heavily dependent on trade could be harmful to growth, could throw the world into recession.\"\n",
    "The tariffs threats have also played a role in forcing the resignation of Canada's Prime Minister Justin Trudeau.\n",
    "\n",
    "Even though the majority of what the US and China sell each other is already subject to tariffs from Donald Trump's first term in office, the threat of new tariffs is a key challenge for the world's second-biggest economy in the year ahead.\n",
    "In his new year address President Xi Jinping acknowledged the \"challenges of uncertainties in the external environment\", but said the economy was on \"an upward trajectory\".\n",
    "Exports of cheap goods from its factories are crucial to China's economy. A drop off in demand because tariffs push prices up would compound the many domestic challenges, including weak consumer spending and business investment, that the government is trying to tackle.\n",
    "Those efforts are helping, according to the World Bank, which at the end of December increased its forecast for China's growth from 4.1% to 4.5% in 2025.\n",
    "Beijing has yet to set a growth target for 2025, but thinks it's on course for 5% last year.\n",
    "\"Addressing challenges in the property sector, strengthening social safety nets, and improving local government finances will be essential to unlocking a sustained recovery,\" according to the World Bank's country director for China, Mara Warwick.\n",
    "Those domestic struggles mean the Chinese government is \"more welcoming\" of foreign investment, according to Michael Hart, who is president of the American Chamber of Commerce in China.\n",
    "Tensions between the US and China, and tariffs have grown under the Biden presidency, meaning some companies have looked to move production elsewhere.\n",
    "However, Mr Hart points out that \"it took 30 to 40 years for China to emerge as such a strong supplier manufacturer\", and whilst \"companies have tried to mitigate some of those risks... no one's prepared now to completely replace China.\"\n",
    "\n",
    "One industry that is likely to continue to be at the heart of global trade battles is electric vehicles. More than 10 million were made in China last year, and that dominance led the US, Canada and European Union (EU) to impose tariffs on them.\n",
    "Beijing says they're unfair, and is challenging them at the World Trade Organization.\n",
    "However, it's the prospect of Donald Trump imposing tariffs that is concerning the EU.\n",
    "\"Restrictions on trade, protectionist measures, are not conducive to growth, and ultimately have an impact on inflation that is largely uncertain,\" the president of the European Central Bank, Christine Lagarde, said last month. \"[But] in the short term, it's probably net inflationary.\"\n",
    "Germany and France are the traditional engines of Europe's economic growth. But their poor performance amid political instability over the past year means that, despite a recent uptick in growth, the eurozone risks losing momentum in the year ahead.\n",
    "That is, unless consumers spend more and businesses increase their investments.\n",
    "In the UK higher prices could also come as a result of tax and wage increases, according to one survey.\n",
    "One barrier to cutting eurozone interest rates is that domestic inflation, which focuses on the prices of items that are less prone to influence from external factors, remains at 4.2%. That's more than double the overall inflation target of 2%, and strong wage pressure has been a barrier getting it down further.\n",
    "It's been similar in the US according to Sander van 't Noordende, the chief executive of Randstad, the world's biggest recruitment firm.\n",
    "\"In the US, for instance, [wage inflation] is still going to be around 4% in 2024. In some Western European countries, it's even higher than that.\n",
    "\"I think there's two factors there. There's the talent scarcity, but there's also, of course, the inflation and people demanding to get more for the work they do.\"\n",
    "Mr van 't Noordende adds that many companies are passing those extra costs on to their customers, which is adding upward pressure to general inflation.\n",
    "A slowdown in the global jobs market reflects a lack of \"dynamism\" from companies and economic growth is key to reversing that, he says.\n",
    "\"If the economy is doing well, businesses are growing, they start hiring. People see interesting opportunities, and you just start seeing people moving around\".\n",
    "\n",
    "One person starting a new role in 2025 is Donald Trump, and a raft of economic plans including tax cuts and deregulation could help the US economy to continue to thrive.\n",
    "Whilst much won't be revealed before he's back in the White House on 20 January, \"everything points to continued US exceptionalism at the expense of the rest of the world,\" says JP Morgan's Mr Oganes.\n",
    "He's hopeful that inflation and interest rates can continue to come down around the world, but warns that \"a lot of it will depend on what are the policies that get deployed, particularly from the US.\"\n",
    "\"\"\""
   ]
  },
  {
   "cell_type": "markdown",
   "id": "5947e2aa",
   "metadata": {
    "id": "5947e2aa"
   },
   "source": [
    "## Building Information Extraction AI"
   ]
  },
  {
   "cell_type": "code",
   "execution_count": null,
   "id": "5c65cbbb",
   "metadata": {
    "ExecuteTime": {
     "end_time": "2024-06-06T16:20:58.019570Z",
     "start_time": "2024-06-06T16:20:58.006422Z"
    },
    "id": "5c65cbbb"
   },
   "outputs": [],
   "source": [
    "# define langchain model\n",
    "model = ChatOpenAI(model=\"gpt-3.5-turbo\", temperature=0.05)\n",
    "\n",
    "# write system prompts\n",
    "prompt_template = ChatPromptTemplate.from_messages(\n",
    "    [\n",
    "        (\"system\",\n",
    "\"\"\"\n",
    "You will be provided with lengthy news or article, and your task is summarizing and extracting key information from it.\n",
    "You will output the following JSON object with these keys:\n",
    "- summary: string, executive summary of given news or article hilighting i) the what the key information is and ii) why it is important in no more than 3 sentences.\n",
    "- key_information: list of strings, no more than 5 most relevant main points supporting the summary.\n",
    "- related_entities: list of strings, all related entities mentioned in the news or article.\n",
    "Answer in the form of a JSON object.\n",
    "\"\"\"\n",
    "),\n",
    "        (\"user\", \"{news}\")\n",
    "    ]\n",
    ")\n",
    "\n",
    "parser = JsonOutputParser()\n",
    "\n",
    "chain = prompt_template | model | parser"
   ]
  },
  {
   "cell_type": "code",
   "execution_count": null,
   "id": "f1f98f89",
   "metadata": {
    "colab": {
     "base_uri": "https://localhost:8080/"
    },
    "executionInfo": {
     "elapsed": 4477,
     "status": "ok",
     "timestamp": 1739715655845,
     "user": {
      "displayName": "Witchapong Daroontham",
      "userId": "15288324432596741279"
     },
     "user_tz": -420
    },
    "id": "f1f98f89",
    "outputId": "e77b4327-4e50-4e23-af82-7f3e770bcd36"
   },
   "outputs": [
    {
     "data": {
      "text/plain": [
       "{'summary': 'The global economy in 2025 is expected to see stable yet underwhelming growth of 3.2%, with challenges such as inflation, interest rates, and tariffs impacting various countries. The uncertainty surrounding policies, particularly from the US under Trump 2.0, is a major concern for global growth and trade relationships, with potential repercussions on industries like car manufacturing and electric vehicles.',\n",
       " 'key_information': ['Global growth in 2025 is projected to be 3.2%, with inflation rates rising in the US, eurozone, and UK.',\n",
       "  'Tariffs imposed by the US under Trump 2.0 could harm countries like Mexico, Canada, and China, impacting industries and trade relationships.',\n",
       "  \"China's economy faces challenges from tariffs, weak consumer spending, and business investment, despite efforts to address domestic struggles.\",\n",
       "  'Electric vehicles are at the center of global trade battles, with tariffs imposed by the US, Canada, and EU on Chinese-made vehicles.',\n",
       "  'The eurozone risks losing momentum due to poor performance in Germany and France, unless consumer spending and business investments increase.'],\n",
       " 'related_entities': ['International Monetary Fund',\n",
       "  'US Federal Reserve',\n",
       "  'Jerome Powell',\n",
       "  'Luis Oganes',\n",
       "  'JP Morgan',\n",
       "  'Donald Trump',\n",
       "  'China',\n",
       "  'Canada',\n",
       "  'Mexico',\n",
       "  'Maurice Obstfeld',\n",
       "  'International Monetary Fund',\n",
       "  'President Obama',\n",
       "  'Xi Jinping',\n",
       "  'World Bank',\n",
       "  'Beijing',\n",
       "  'Michael Hart',\n",
       "  'American Chamber of Commerce in China',\n",
       "  'European Union',\n",
       "  'Christine Lagarde',\n",
       "  'European Central Bank',\n",
       "  'Germany',\n",
       "  'France',\n",
       "  'UK',\n",
       "  \"Sander van 't Noordende\",\n",
       "  'Randstad']}"
      ]
     },
     "execution_count": 26,
     "metadata": {},
     "output_type": "execute_result"
    }
   ],
   "source": [
    "chain.invoke({\"news\": news_text})"
   ]
  },
  {
   "cell_type": "markdown",
   "id": "542dd3d4",
   "metadata": {
    "id": "542dd3d4"
   },
   "source": [
    "## Add support for multi languages!!"
   ]
  },
  {
   "cell_type": "code",
   "execution_count": null,
   "id": "0532bf41",
   "metadata": {
    "ExecuteTime": {
     "end_time": "2024-06-06T16:59:14.361793Z",
     "start_time": "2024-06-06T16:59:14.348958Z"
    },
    "id": "0532bf41"
   },
   "outputs": [],
   "source": [
    "# define langchain model\n",
    "model = ChatOpenAI(model=\"gpt-3.5-turbo\", temperature=0.01)\n",
    "\n",
    "# write system prompts\n",
    "prompt_template = ChatPromptTemplate.from_messages(\n",
    "    [\n",
    "        (\"system\",\n",
    "\"\"\"\n",
    "You will be provided with lengthy news or article in any language. Your task is detecting an input language name, and summarizing and extracting key information from it in standard {language} language.\n",
    "You will output the following JSON object with these keys:\n",
    "- summary: string, executive summary of given news or article hilighting i) the what the key information is and ii) why it is important in no more than 3 sentences.\n",
    "- key_information: list of strings, no more than 5 most relevant main points supporting the summary.\n",
    "- related_entities: list of strings, all related entities mentioned in the news or article.\n",
    "Answer in the form of a JSON object.\n",
    "- input_language: string, name of the detected input language.\n",
    "\"\"\"\n",
    "),\n",
    "        (\"user\", \"{news}\")\n",
    "    ]\n",
    ")\n",
    "\n",
    "parser = JsonOutputParser()\n",
    "\n",
    "chain = prompt_template | model | parser"
   ]
  },
  {
   "cell_type": "code",
   "execution_count": null,
   "id": "o_DtyeFKORUV",
   "metadata": {
    "colab": {
     "base_uri": "https://localhost:8080/"
    },
    "executionInfo": {
     "elapsed": 7058,
     "status": "ok",
     "timestamp": 1739717317756,
     "user": {
      "displayName": "Witchapong Daroontham",
      "userId": "15288324432596741279"
     },
     "user_tz": -420
    },
    "id": "o_DtyeFKORUV",
    "outputId": "881c221e-ef53-41a7-8145-e7e24a21b334"
   },
   "outputs": [
    {
     "data": {
      "text/plain": [
       "{'summary': 'ปี 2025 จะเป็นปีที่น่าสนใจสำหรับเศรษฐกิจโลก เนื่องจากการเจริญเติบโตที่คาดว่าจะคงอยู่ที่ระดับ 3.2% ตามรายงานจากสำนักงานการเงินนานาชาติ แม้ว่าการต่อสู้กับอินฟเลชั่นยังคงต่อเนื่อง แต่ความไม่แน่นอนที่มาจากนโยบายของสหรัฐฯ ในยุค Trump 2.0 อาจส่งผลกระทบต่อการเจริญเติบโตของโลก',\n",
       " 'key_information': ['การเจริญเติบโตของเศรษฐกิจโลกคาดว่าจะคงอยู่ที่ระดับ 3.2%',\n",
       "  'การต่อสู้กับอินฟเลชั่นยังคงเป็นปัญหาสำคัญสำหรับธนาคารกลางหลายแห่ง',\n",
       "  'การเสนอภาษีซึ่งอาจส่งผลกระทบต่อการเจริญเติบโตของโลก',\n",
       "  'การเจริญเติบโตของจีนที่เพิ่มขึ้นจาก 4.1% เป็น 4.5% ในปี 2025',\n",
       "  'ความไม่แน่นอนที่มาจากนโยบายของสหรัฐฯ ในยุค Trump 2.0 อาจส่งผลกระทบต่อการเจริญเติบโตของโลก'],\n",
       " 'related_entities': ['International Monetary Fund',\n",
       "  'US Federal Reserve',\n",
       "  'Jerome Powell',\n",
       "  'Luis Oganes',\n",
       "  'JP Morgan',\n",
       "  'Donald Trump',\n",
       "  'China',\n",
       "  'Canada',\n",
       "  'Mexico',\n",
       "  'Maurice Obstfeld',\n",
       "  'International Monetary Fund',\n",
       "  'President Obama',\n",
       "  'Justin Trudeau',\n",
       "  'President Xi Jinping',\n",
       "  'World Bank',\n",
       "  'Mara Warwick',\n",
       "  'Michael Hart',\n",
       "  'American Chamber of Commerce in China',\n",
       "  'European Union',\n",
       "  'European Central Bank',\n",
       "  'Christine Lagarde',\n",
       "  'Germany',\n",
       "  'France',\n",
       "  \"Sander van 't Noordende\",\n",
       "  'Randstad'],\n",
       " 'input_language': 'English'}"
      ]
     },
     "execution_count": 33,
     "metadata": {},
     "output_type": "execute_result"
    }
   ],
   "source": [
    "chain.invoke({\"news\": news_text, \"language\": \"Thai\"})"
   ]
  },
  {
   "cell_type": "code",
   "execution_count": null,
   "id": "c1TVvWcKVsT0",
   "metadata": {
    "colab": {
     "base_uri": "https://localhost:8080/"
    },
    "executionInfo": {
     "elapsed": 7402,
     "status": "ok",
     "timestamp": 1739717422369,
     "user": {
      "displayName": "Witchapong Daroontham",
      "userId": "15288324432596741279"
     },
     "user_tz": -420
    },
    "id": "c1TVvWcKVsT0",
    "outputId": "1d4ace26-74c7-4dab-81b0-d6051442983d"
   },
   "outputs": [
    {
     "data": {
      "text/plain": [
       "{'summary': 'El año 2025 se perfila como un año intrigante para la economía global, con desafíos como la inflación, las tasas de interés y los aranceles. La incertidumbre proviene de las políticas aislacionistas y los nuevos aranceles de Estados Unidos, lo que podría afectar el crecimiento mundial y desencadenar una recesión. La lucha contra la inflación y las decisiones de la Reserva Federal de EE. UU. tendrán un impacto significativo en la economía mundial.',\n",
       " 'key_information': ['La economía global se espera que crezca un 3.2% en 2025, según el Fondo Monetario Internacional.',\n",
       "  'Los aranceles amenazados por Donald Trump podrían ser perjudiciales para el crecimiento mundial y desencadenar una recesión.',\n",
       "  'La incertidumbre en la economía global proviene de las políticas aislacionistas de EE. UU. y la lucha contra la inflación.',\n",
       "  'China enfrenta desafíos debido a los aranceles y la disminución de la demanda de sus productos debido a los precios más altos.',\n",
       "  'La Eurozona y el Reino Unido también enfrentan desafíos económicos, como la inflación y la falta de dinamismo en el mercado laboral.'],\n",
       " 'related_entities': ['Fondo Monetario Internacional',\n",
       "  'Jerome Powell',\n",
       "  'Donald Trump',\n",
       "  'Luis Oganes',\n",
       "  'Maurice Obstfeld',\n",
       "  'Xi Jinping',\n",
       "  'Michael Hart',\n",
       "  'Christine Lagarde',\n",
       "  'European Central Bank',\n",
       "  \"Sander van 't Noordende\",\n",
       "  'Mara Warwick',\n",
       "  'Justin Trudeau',\n",
       "  'World Bank',\n",
       "  'Peterson Institute for International Economics',\n",
       "  'American Chamber of Commerce in China',\n",
       "  'Randstad'],\n",
       " 'input_language': 'English'}"
      ]
     },
     "execution_count": 38,
     "metadata": {},
     "output_type": "execute_result"
    }
   ],
   "source": [
    "chain.invoke({\"news\": news_text, \"language\": \"Spanish\"})"
   ]
  }
 ],
 "metadata": {
  "colab": {
   "provenance": [
    {
     "file_id": "1aOs85Bp2aLarA6-B3Chv4zyDcd6MDBlj",
     "timestamp": 1739695021711
    },
    {
     "file_id": "1V8NB6yeXosjy_e0q42R9Nt3dw6KcpNr8",
     "timestamp": 1738680584243
    }
   ],
   "toc_visible": true
  },
  "kernelspec": {
   "display_name": "Python 3 (ipykernel)",
   "language": "python",
   "name": "python3"
  },
  "language_info": {
   "codemirror_mode": {
    "name": "ipython",
    "version": 3
   },
   "file_extension": ".py",
   "mimetype": "text/x-python",
   "name": "python",
   "nbconvert_exporter": "python",
   "pygments_lexer": "ipython3",
   "version": "3.11.0"
  },
  "toc": {
   "base_numbering": 1,
   "nav_menu": {},
   "number_sections": true,
   "sideBar": true,
   "skip_h1_title": false,
   "title_cell": "Table of Contents",
   "title_sidebar": "Contents",
   "toc_cell": false,
   "toc_position": {},
   "toc_section_display": true,
   "toc_window_display": false
  }
 },
 "nbformat": 4,
 "nbformat_minor": 5
}
